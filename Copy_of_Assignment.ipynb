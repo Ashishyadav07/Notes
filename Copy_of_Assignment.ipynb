{
  "nbformat": 4,
  "nbformat_minor": 0,
  "metadata": {
    "colab": {
      "provenance": []
    },
    "kernelspec": {
      "name": "python3",
      "display_name": "Python 3"
    },
    "language_info": {
      "name": "python"
    }
  },
  "cells": [
    {
      "cell_type": "markdown",
      "source": [
        "\n",
        "\n",
        "\n",
        "\n",
        "# 1. **Case Study: Analyzing Weather Data with** **NumPy**"
      ],
      "metadata": {
        "id": "SNKPFZfLkS_x"
      }
    },
    {
      "cell_type": "markdown",
      "source": [
        "Question 1:\n",
        "Load the temperature data (provided as a list) into a NumPy array. How can you verify\n",
        "the shape of the data to ensure it has 365 readings?"
      ],
      "metadata": {
        "id": "8_kxgKePmh1k"
      }
    },
    {
      "cell_type": "code",
      "source": [
        "import numpy as np\n",
        "import pandas as pd\n",
        "# Sample temperature data for a year (in reality, this would be provided)\n",
        "data = [\n",
        "     30.5, 31.0, 29.5, 30.2, 28.8, 27.0, 26.5, 25.0, 24.5, 24.0,\n",
        "    25.5, 26.0, 27.5, 28.0, 29.0, 30.0, 31.5, 32.0, 33.0, 34.0,\n",
        "    32.5, 31.0, 30.5, 29.0, 28.5, 27.0, 26.0, 25.5, 24.5, 24.0,\n",
        "    23.5, 23.0, 22.5, 22.0, 21.5, 21.0, 22.0, 23.0, 24.0, 25.0,\n",
        "    26.0, 27.0, 28.0, 29.0, 30.0, 31.0, 32.0, 33.0, 34.0, 35.0,\n",
        "    34.5, 34.0, 33.5, 32.5, 31.0, 30.0, 29.0, 28.0, 27.0, 26.0,\n",
        "    25.5, 24.5, 23.5, 22.5, 21.5, 21.0, 20.5, 20.0, 19.5, 19.0,\n",
        "    20.0, 21.0, 22.0, 23.0, 24.0, 25.0, 26.0, 27.0, 28.0, 29.0,\n",
        "    30.0, 31.0, 32.0, 33.0, 34.0, 35.0, 36.0, 37.0, 38.0, 39.0,\n",
        "    38.5, 38.0, 37.5, 37.0, 36.5, 36.0, 35.5, 34.5, 33.5, 32.5,\n",
        "    31.5, 30.5, 29.5, 28.5, 27.5, 26.5, 25.5, 24.5, 23.5, 22.5,\n",
        "    22.0, 23.0, 24.0, 25.0, 26.0, 27.0, 28.0, 29.0, 30.0, 31.0,\n",
        "    32.0, 33.0, 34.0, 35.0, 36.0, 37.0, 38.0, 39.0, 40.0, 39.5,\n",
        "    39.0, 38.0, 37.0, 36.0, 35.0, 34.0, 33.0, 32.0, 31.0, 30.0,\n",
        "    29.0, 28.0, 27.0, 26.0, 25.0, 24.0, 23.0, 22.0, 21.5, 21.0,\n",
        "    20.5, 20.0, 19.5, 19.0, 18.5, 18.0, 17.5, 17.0, 16.5, 16.0,\n",
        "    15.5, 15.0, 14.5, 14.0, 13.5, 13.0, 12.5, 12.0, 11.5, 11.0,\n",
        "    10.5, 10.0, 9.5, 9.0, 8.5, 8.0, 7.5, 7.0, 6.5, 6.0,\n",
        "    5.5, 5.0, 4.5, 4.0, 3.5, 3.0, 2.5, 2.0, 1.5, 1.0,\n",
        "    0.5, 0.0, 0.0, 1.0, 2.0, 3.0, 4.0, 5.0, 6.0, 7.0,\n",
        "    8.0, 9.0, 10.0, 11.0, 12.0, 13.0, 14.0, 15.0, 16.0, 17.0,\n",
        "    18.0, 19.0, 20.0, 21.0, 22.0, 23.0, 24.0, 25.0, 26.0, 27.0,\n",
        "    28.0, 29.0, 30.0, 31.0, 32.0, 33.0, 34.0, 35.0, 36.0, 37.0,\n",
        "    38.0, 39.0, 40.0, 39.0, 38.0, 37.0, 36.0, 35.0, 34.0, 33.0,\n",
        "    32.0, 31.0, 30.0, 29.0, 28.0, 27.0, 26.0, 25.0, 24.0, 23.0,\n",
        "    22.0, 21.0, 20.0, 19.0, 18.0, 17.0, 16.0, 15.0, 14.0, 13.0,\n",
        "    12.0, 11.0, 10.0, 9.0, 8.0, 7.0, 6.0, 5.0, 4.0, 3.0,2.0, 1.0,\n",
        "    0.0, 0.0, 1.0, 2.0, 3.0, 4.0, 5.0, 6.0, 7.0, 8.0, 9.0, 10.0,\n",
        "    11.0, 12.0, 13.0, 14.0, 15.0, 16.0,17.0, 18.0, 19.0, 20.0,\n",
        "    21.0, 22.0, 23.0, 24.0, 25.0, 26.0,\n",
        "    27.0, 28.0, 29.0, 30.0, 31.0, 32.0, 33.0, 34.0, 35.0, 36.0,\n",
        "    37.0, 38.0, 39.0, 40.0, 39.5, 39.0, 38.5, 38.0, 37.5, 37.0,\n",
        "    40.0, 34.0,26.0,36.0,23.0,39.0, 38.0, 37.0, 36.0, 35.0, 34.0,\n",
        "    33.0, 32.0, 31.0, 30.0, 29.0, 28.0, 27.0, 26.0, 25.0, 24.0,\n",
        "    23.0, 22.0, 21.5, 21.0,20.5, 20.0, 19.5, 19.0, 18.5, 18.0, 17.5,\n",
        "    17.0, 16.5, 16.0,10.5, 10.0, 29.5, 29.0, 18.5, 8.0, 17.5, 7.0, 6.5, 26.0\n",
        "]\n",
        "# Load the data into a numpy array\n",
        "temp_array = np.array(data)\n",
        "# Verify the shape\n",
        "print(temp_array.shape)"
      ],
      "metadata": {
        "colab": {
          "base_uri": "https://localhost:8080/"
        },
        "id": "UDAfvAH1CAak",
        "outputId": "07266259-7ac5-4d63-cb59-1650efaa6866"
      },
      "execution_count": null,
      "outputs": [
        {
          "output_type": "stream",
          "name": "stdout",
          "text": [
            "(365,)\n"
          ]
        }
      ]
    },
    {
      "cell_type": "markdown",
      "source": [
        "Question 2:\n",
        "Calculate the mean, median, minimum, and maximum temperatures for the year."
      ],
      "metadata": {
        "id": "p4v0OWHPm40J"
      }
    },
    {
      "cell_type": "code",
      "source": [
        "mean_temp = np.mean(temp_array)\n",
        "median_temp = np.median(temp_array)\n",
        "min_temp = np.min(temp_array)\n",
        "max_temp = np.max(temp_array)\n",
        "print(f\"Mean Temperature: {mean_temp}°C\")\n",
        "print(f\"Median Temperature: {median_temp}°C\")\n",
        "print(f\"Minimum Temperature: {min_temp}°C\")\n",
        "print(f\"Maximum Temperature: {max_temp}°C\")"
      ],
      "metadata": {
        "colab": {
          "base_uri": "https://localhost:8080/"
        },
        "id": "PPP7L8YZgkli",
        "outputId": "18545f05-ca26-488f-8850-a13469e0d2b9"
      },
      "execution_count": null,
      "outputs": [
        {
          "output_type": "stream",
          "name": "stdout",
          "text": [
            "Mean Temperature: 23.34931506849315°C\n",
            "Median Temperature: 25.0°C\n",
            "Minimum Temperature: 0.0°C\n",
            "Maximum Temperature: 40.0°C\n"
          ]
        }
      ]
    },
    {
      "cell_type": "markdown",
      "source": [
        "Question 3: Determine the day (index) on which the highest temperature occurred"
      ],
      "metadata": {
        "id": "V0qaqvhUToOj"
      }
    },
    {
      "cell_type": "code",
      "source": [
        "day_of_max_temp = np.argmax(temp_array)\n",
        "print(f\"The highest temperature occurred on day:{day_of_max_temp}\")"
      ],
      "metadata": {
        "colab": {
          "base_uri": "https://localhost:8080/"
        },
        "id": "FL4g0N2uTx_Z",
        "outputId": "9dc0103b-ea44-4f39-a633-013e77a40434"
      },
      "execution_count": null,
      "outputs": [
        {
          "output_type": "stream",
          "name": "stdout",
          "text": [
            "The highest temperature occurred on day:128\n"
          ]
        }
      ]
    },
    {
      "cell_type": "markdown",
      "source": [
        "Question 4:\n",
        "Calculate the standard deviation of the temperatures to understand the spread of the\n",
        "temperature readings around the mean."
      ],
      "metadata": {
        "id": "cJsVnlqyihIr"
      }
    },
    {
      "cell_type": "code",
      "source": [
        "std_dev = np.std(temp_array)\n",
        "print(f\"Standard Deviation of Temperatures: {std_dev}°C\")"
      ],
      "metadata": {
        "colab": {
          "base_uri": "https://localhost:8080/"
        },
        "id": "3twP8nNZi7Oq",
        "outputId": "0c35d904-0676-44d4-ddba-d580f8e48be1"
      },
      "execution_count": null,
      "outputs": [
        {
          "output_type": "stream",
          "name": "stdout",
          "text": [
            "Standard Deviation of Temperatures: 10.576232377916568°C\n"
          ]
        }
      ]
    },
    {
      "cell_type": "markdown",
      "source": [
        "Question 5:\n",
        "You suspect that the temperature sensor might have malfunctioned on some days,\n",
        "recording abnormally high readings. Identify days where the temperature is more than 3\n",
        "standard deviations away from the mean as potential anomalies."
      ],
      "metadata": {
        "id": "van0onXgj0LJ"
      }
    },
    {
      "cell_type": "code",
      "source": [
        "anomaly_threshold = mean_temp + 3 * std_dev\n",
        "anomalous_days = np.where(temp_array > anomaly_threshold)\n",
        "print(f\"Potential anomalous days: {anomalous_days}\")"
      ],
      "metadata": {
        "colab": {
          "base_uri": "https://localhost:8080/"
        },
        "id": "PWOzRYy4jqGR",
        "outputId": "9294b93e-9be7-485c-d31d-10778262b687"
      },
      "execution_count": null,
      "outputs": [
        {
          "output_type": "stream",
          "name": "stdout",
          "text": [
            "Potential anomalous days: (array([], dtype=int64),)\n"
          ]
        }
      ]
    },
    {
      "cell_type": "markdown",
      "source": [
        "# 2. **Case Study: E-commerce Customer Behavior Analysis**"
      ],
      "metadata": {
        "id": "bG34ncFkkcVg"
      }
    },
    {
      "cell_type": "markdown",
      "source": [
        "Question 1:\n",
        "Load the dataset into a pandas DataFrame and display the first five rows to get a\n",
        "sense of the data."
      ],
      "metadata": {
        "id": "M78E8Zf9mR2g"
      }
    },
    {
      "cell_type": "code",
      "source": [
        "import pandas as pd\n",
        "# Sample data loading (in reality, this might be loaded from a CSV or other data source)\n",
        "data = {\n",
        "'CustomerID': [101, 102, 103, 104, 105],\n",
        "'Age': [25, 30, 22, 29, 'N/A'],\n",
        "'Gender': ['Male', 'Female', 'Female', 'Male', ''],\n",
        "'PurchaseAmount': [100, 150, 90, 120, 110],\n",
        "'ProductCategory': ['Electronics', 'Clothing', 'Clothing',\n",
        "'Electronics', 'Home']\n",
        "}\n",
        "df = pd.DataFrame(data)\n",
        "# Display the first five rows\n",
        "print(df.head())"
      ],
      "metadata": {
        "colab": {
          "base_uri": "https://localhost:8080/"
        },
        "id": "25glMgZDkncx",
        "outputId": "e4595f5a-9f74-4b58-c2dc-1aebd07ce0b5"
      },
      "execution_count": null,
      "outputs": [
        {
          "output_type": "stream",
          "name": "stdout",
          "text": [
            "   CustomerID  Age  Gender  PurchaseAmount ProductCategory\n",
            "0         101   25    Male             100     Electronics\n",
            "1         102   30  Female             150        Clothing\n",
            "2         103   22  Female              90        Clothing\n",
            "3         104   29    Male             120     Electronics\n",
            "4         105  N/A                     110            Home\n"
          ]
        }
      ]
    },
    {
      "cell_type": "markdown",
      "source": [
        "Question 2:\n",
        "Identify and handle missing values in the dataset."
      ],
      "metadata": {
        "id": "3_xUK09AmgAw"
      }
    },
    {
      "cell_type": "code",
      "source": [
        "# Check for missing values\n",
        "missing_values = df.isnull().sum()\n",
        "print(\"Missing values per column:\\n\", missing_values)\n",
        "# Handle missing values (for simplicity, we'll replace 'N/A' and empty strings with NaN, then fill them)\n",
        "df.replace(['N/A', ''], pd.NA, inplace=True)\n",
        "# Fill missing values (for this example, we'll fill age with the median and gender with mode)\n",
        "df['Age'] = df['Age'].fillna(df['Age'].median())\n",
        "df['Gender'] = df['Gender'].fillna(df['Gender'].mode()[0])\n",
        "print(\"\\nData after handling missing values:\\n\", df.head())"
      ],
      "metadata": {
        "colab": {
          "base_uri": "https://localhost:8080/"
        },
        "id": "K4t9zjM7mdoG",
        "outputId": "6b3de2d4-e99e-4dbd-ed86-66bc5956b0d2"
      },
      "execution_count": null,
      "outputs": [
        {
          "output_type": "stream",
          "name": "stdout",
          "text": [
            "Missing values per column:\n",
            " CustomerID         0\n",
            "Age                0\n",
            "Gender             0\n",
            "PurchaseAmount     0\n",
            "ProductCategory    0\n",
            "dtype: int64\n",
            "\n",
            "Data after handling missing values:\n",
            "    CustomerID   Age  Gender  PurchaseAmount ProductCategory\n",
            "0         101  25.0    Male             100     Electronics\n",
            "1         102  30.0  Female             150        Clothing\n",
            "2         103  22.0  Female              90        Clothing\n",
            "3         104  29.0    Male             120     Electronics\n",
            "4         105  27.0  Female             110            Home\n"
          ]
        }
      ]
    },
    {
      "cell_type": "markdown",
      "source": [
        "Question 3:\n",
        "Generate descriptive statistics for the PurchaseAmount column to understand its\n",
        "distribution.\n",
        "\n",
        "\n",
        "\n",
        "\n"
      ],
      "metadata": {
        "id": "ESnkyhHnm44p"
      }
    },
    {
      "cell_type": "code",
      "source": [
        "descriptive_stats = df['PurchaseAmount'].describe()\n",
        "print(descriptive_stats)"
      ],
      "metadata": {
        "colab": {
          "base_uri": "https://localhost:8080/"
        },
        "id": "BB_Vodmxm_c3",
        "outputId": "ff25d625-da38-4736-ae20-6694f82664f4"
      },
      "execution_count": null,
      "outputs": [
        {
          "output_type": "stream",
          "name": "stdout",
          "text": [
            "count      5.000000\n",
            "mean     114.000000\n",
            "std       23.021729\n",
            "min       90.000000\n",
            "25%      100.000000\n",
            "50%      110.000000\n",
            "75%      120.000000\n",
            "max      150.000000\n",
            "Name: PurchaseAmount, dtype: float64\n"
          ]
        }
      ]
    },
    {
      "cell_type": "markdown",
      "source": [
        "Question 4:\n",
        "Normalize the PurchaseAmount column using Min-Max scaling so that values lie\n",
        "between 0 and 1."
      ],
      "metadata": {
        "id": "Y5WbQcZInFsi"
      }
    },
    {
      "cell_type": "code",
      "source": [
        "min_val = df['PurchaseAmount'].min()\n",
        "max_val = df['PurchaseAmount'].max()\n",
        "df['NormalizedPurchase'] = (df['PurchaseAmount'] - min_val)\n",
        "(max_val - min_val)\n",
        "print(df[['PurchaseAmount', 'NormalizedPurchase']].head())"
      ],
      "metadata": {
        "colab": {
          "base_uri": "https://localhost:8080/"
        },
        "id": "KhRQie8knAcy",
        "outputId": "ad197516-7597-40ec-f30b-27a56799bd2e"
      },
      "execution_count": null,
      "outputs": [
        {
          "output_type": "stream",
          "name": "stdout",
          "text": [
            "   PurchaseAmount  NormalizedPurchase\n",
            "0             100                  10\n",
            "1             150                  60\n",
            "2              90                   0\n",
            "3             120                  30\n",
            "4             110                  20\n"
          ]
        }
      ]
    },
    {
      "cell_type": "markdown",
      "source": [
        "Question 5:\n",
        "Perform one-hot encoding on the ProductCategory column to convert it into\n",
        "numerical format for machine learning models."
      ],
      "metadata": {
        "id": "AGj2w3ISnaJn"
      }
    },
    {
      "cell_type": "code",
      "source": [
        "df_encoded = pd.get_dummies(df, columns=['ProductCategory'],\n",
        "prefix='Category')\n",
        "print(df_encoded.head())"
      ],
      "metadata": {
        "colab": {
          "base_uri": "https://localhost:8080/"
        },
        "id": "MkD3c67WnKp4",
        "outputId": "0c30c095-c4fa-4d79-d0a6-6d33cf1a4a01"
      },
      "execution_count": null,
      "outputs": [
        {
          "output_type": "stream",
          "name": "stdout",
          "text": [
            "   CustomerID   Age  Gender  PurchaseAmount  NormalizedPurchase  \\\n",
            "0         101  25.0    Male             100                  10   \n",
            "1         102  30.0  Female             150                  60   \n",
            "2         103  22.0  Female              90                   0   \n",
            "3         104  29.0    Male             120                  30   \n",
            "4         105  27.0  Female             110                  20   \n",
            "\n",
            "   Category_Clothing  Category_Electronics  Category_Home  \n",
            "0              False                  True          False  \n",
            "1               True                 False          False  \n",
            "2               True                 False          False  \n",
            "3              False                  True          False  \n",
            "4              False                 False           True  \n"
          ]
        }
      ]
    },
    {
      "cell_type": "markdown",
      "source": [
        "# 3. **Assignment: Predicting House Prices using Regularized Linear Regression**"
      ],
      "metadata": {
        "id": "BUqRKLYHoQ0f"
      }
    },
    {
      "cell_type": "markdown",
      "source": [
        "1. Data Exploration:Load the dataset into a pandas DataFrame.Generate\n",
        "descriptive statistics for the dataset to get an understanding of its\n",
        "distribution.Visualize the relationship between features and the target\n",
        "variable (Price)."
      ],
      "metadata": {
        "id": "eduZYr8yojbx"
      }
    },
    {
      "cell_type": "code",
      "source": [
        "import pandas as pd\n",
        "import numpy as np\n",
        "# Mock dataset\n",
        "np.random.seed(42)\n",
        "data = {\n",
        "'SquareFeet': np.random.randint(800, 5000, 200),\n",
        "'Bedrooms': np.random.randint(1, 7, 200),\n",
        "'Bathrooms': np.random.randint(1, 5, 200),\n",
        "'Age': np.random.randint(1, 100, 200),\n",
        "'Garage': np.random.randint(0, 4, 200),\n",
        "'Price': np.random.randint(50000, 1000000, 200)\n",
        "}\n"
      ],
      "metadata": {
        "id": "5zfGlPI9nfou"
      },
      "execution_count": null,
      "outputs": []
    },
    {
      "cell_type": "markdown",
      "source": [
        "2. Load the dataset into a pandas DataFrame"
      ],
      "metadata": {
        "id": "PmP3Um1mo02A"
      }
    },
    {
      "cell_type": "code",
      "source": [
        "df = pd.DataFrame(data)\n",
        "# Display first few rows\n",
        "print(df.head())\n"
      ],
      "metadata": {
        "colab": {
          "base_uri": "https://localhost:8080/"
        },
        "id": "Hx5YT7mfo4Ji",
        "outputId": "c8d327f7-48fc-4064-81a9-75a9a5e7900e"
      },
      "execution_count": null,
      "outputs": [
        {
          "output_type": "stream",
          "name": "stdout",
          "text": [
            "   SquareFeet  Bedrooms  Bathrooms  Age  Garage   Price\n",
            "0        1660         4          2   29       2  237210\n",
            "1        4572         6          4   37       1  836237\n",
            "2        3892         3          1   38       3  912557\n",
            "3        1266         6          3   83       0  194990\n",
            "4        4244         1          4    8       1  208518\n"
          ]
        }
      ]
    },
    {
      "cell_type": "markdown",
      "source": [
        "3. Generate descriptive statistics for the dataset to get an understanding of its\n",
        "distribution."
      ],
      "metadata": {
        "id": "ax8aHEkUpK8H"
      }
    },
    {
      "cell_type": "code",
      "source": [
        "print(df.describe())"
      ],
      "metadata": {
        "colab": {
          "base_uri": "https://localhost:8080/"
        },
        "id": "MFPrKrzVpJZJ",
        "outputId": "f2e5eed3-d3fd-4753-cacb-ef341ea557a3"
      },
      "execution_count": null,
      "outputs": [
        {
          "output_type": "stream",
          "name": "stdout",
          "text": [
            "        SquareFeet    Bedrooms   Bathrooms         Age      Garage  \\\n",
            "count   200.000000  200.000000  200.000000  200.000000  200.000000   \n",
            "mean   2957.395000    3.640000    2.425000   50.225000    1.430000   \n",
            "std    1153.690926    1.770898    1.162381   28.639404    1.100525   \n",
            "min     834.000000    1.000000    1.000000    1.000000    0.000000   \n",
            "25%    2046.250000    2.000000    1.000000   26.750000    0.000000   \n",
            "50%    2858.500000    4.000000    2.000000   50.500000    1.000000   \n",
            "75%    3953.250000    5.000000    3.250000   74.250000    2.000000   \n",
            "max    4991.000000    6.000000    4.000000   99.000000    3.000000   \n",
            "\n",
            "               Price  \n",
            "count     200.000000  \n",
            "mean   529182.970000  \n",
            "std    285933.511245  \n",
            "min     51917.000000  \n",
            "25%    283655.500000  \n",
            "50%    528987.500000  \n",
            "75%    806413.500000  \n",
            "max    998027.000000  \n"
          ]
        }
      ]
    },
    {
      "cell_type": "markdown",
      "source": [
        "4. Visualize the relationship between features and the target variable (Price)."
      ],
      "metadata": {
        "id": "8glsmIo-qBtf"
      }
    },
    {
      "cell_type": "code",
      "source": [
        "import matplotlib.pyplot as plt\n",
        "import seaborn as sns\n",
        "sns.pairplot(df, x_vars=['SquareFeet', 'Bedrooms', 'Bathrooms','Age', 'Garage'], y_vars='Price', height=4, aspect=1)\n",
        "plt.show()"
      ],
      "metadata": {
        "colab": {
          "base_uri": "https://localhost:8080/",
          "height": 268
        },
        "id": "hmcrjyC1pzsy",
        "outputId": "a360264c-52cf-4bec-fb73-3b8995c639de"
      },
      "execution_count": null,
      "outputs": [
        {
          "output_type": "display_data",
          "data": {
            "text/plain": [
              "<Figure size 2000x400 with 5 Axes>"
            ],
            "image/png": "[encoded data removed]"
          },
          "metadata": {}
        }
      ]
    },
    {
      "cell_type": "markdown",
      "source": [
        "5. Data Preprocessing"
      ],
      "metadata": {
        "id": "w0caq38ZqWcv"
      }
    },
    {
      "cell_type": "code",
      "source": [
        "from sklearn.preprocessing import StandardScaler\n",
        "features = ['SquareFeet', 'Bedrooms', 'Bathrooms', 'Age', 'Garage']\n",
        "scaler = StandardScaler()\n",
        "df[features] = scaler.fit_transform(df[features])"
      ],
      "metadata": {
        "id": "HydaYogOqKpU"
      },
      "execution_count": null,
      "outputs": []
    },
    {
      "cell_type": "markdown",
      "source": [
        "6. Handle any missing or anomalous values."
      ],
      "metadata": {
        "id": "5OfV573-qnYq"
      }
    },
    {
      "cell_type": "code",
      "source": [
        "# Check for missing values\n",
        "missing_values = df.isnull().sum()\n",
        "print(\"Missing Values:\\n\", missing_values)\n"
      ],
      "metadata": {
        "colab": {
          "base_uri": "https://localhost:8080/"
        },
        "id": "PR3S5r1aqeZi",
        "outputId": "8c2868bd-9119-4bbd-a46c-d4934b1d68dd"
      },
      "execution_count": null,
      "outputs": [
        {
          "output_type": "stream",
          "name": "stdout",
          "text": [
            "Missing Values:\n",
            " SquareFeet    0\n",
            "Bedrooms      0\n",
            "Bathrooms     0\n",
            "Age           0\n",
            "Garage        0\n",
            "Price         0\n",
            "dtype: int64\n"
          ]
        }
      ]
    },
    {
      "cell_type": "code",
      "source": [
        "# Fill missing values with the mean for numerical columns\n",
        "df.fillna(df.mean(), inplace=True)\n",
        "\n"
      ],
      "metadata": {
        "id": "B1nPeGzFrQt8"
      },
      "execution_count": null,
      "outputs": []
    },
    {
      "cell_type": "code",
      "source": [
        "# Function to identify outliers using IQR\n",
        "def identify_outliers(column):\n",
        "    Q1 = column.quantile(0.25)\n",
        "    Q3 = column.quantile(0.75)\n",
        "    IQR = Q3 - Q1\n",
        "    lower_bound = Q1 - 1.5 * IQR\n",
        "    upper_bound = Q3 + 1.5 * IQR\n",
        "    return lower_bound, upper_bound\n",
        "\n",
        "# Check for outliers in relevant columns\n",
        "outliers_info = {}\n",
        "for column in ['SquareFeet', 'Bedrooms', 'Bathrooms', 'Age', 'Garage', 'Price']:\n",
        "    lower_bound, upper_bound = identify_outliers(df[column])\n",
        "    outliers_info[column] = (lower_bound, upper_bound)\n",
        "    print(f\"Outliers in {column}:\")\n",
        "    print(df[(df[column] < lower_bound) | (df[column] > upper_bound)])\n"
      ],
      "metadata": {
        "colab": {
          "base_uri": "https://localhost:8080/"
        },
        "id": "JlrURQSOrYPy",
        "outputId": "28cef5ea-25e9-4e28-ec67-5ecc103adcfc"
      },
      "execution_count": null,
      "outputs": [
        {
          "output_type": "stream",
          "name": "stdout",
          "text": [
            "Outliers in SquareFeet:\n",
            "Empty DataFrame\n",
            "Columns: [SquareFeet, Bedrooms, Bathrooms, Age, Garage, Price]\n",
            "Index: []\n",
            "Outliers in Bedrooms:\n",
            "Empty DataFrame\n",
            "Columns: [SquareFeet, Bedrooms, Bathrooms, Age, Garage, Price]\n",
            "Index: []\n",
            "Outliers in Bathrooms:\n",
            "Empty DataFrame\n",
            "Columns: [SquareFeet, Bedrooms, Bathrooms, Age, Garage, Price]\n",
            "Index: []\n",
            "Outliers in Age:\n",
            "Empty DataFrame\n",
            "Columns: [SquareFeet, Bedrooms, Bathrooms, Age, Garage, Price]\n",
            "Index: []\n",
            "Outliers in Garage:\n",
            "Empty DataFrame\n",
            "Columns: [SquareFeet, Bedrooms, Bathrooms, Age, Garage, Price]\n",
            "Index: []\n",
            "Outliers in Price:\n",
            "Empty DataFrame\n",
            "Columns: [SquareFeet, Bedrooms, Bathrooms, Age, Garage, Price]\n",
            "Index: []\n"
          ]
        }
      ]
    },
    {
      "cell_type": "code",
      "source": [
        "# Capping outliers in relevant columns\n",
        "for column in ['SquareFeet', 'Bedrooms', 'Bathrooms', 'Age', 'Garage', 'Price']:\n",
        "    lower_bound, upper_bound = outliers_info[column]\n",
        "    df[column] = df[column].clip(lower=lower_bound, upper=upper_bound)\n",
        "\n",
        "# Display cleaned DataFrame\n",
        "print(\"Cleaned Dataset:\\n\", df)\n"
      ],
      "metadata": {
        "colab": {
          "base_uri": "https://localhost:8080/"
        },
        "id": "m1YWMh2Frl0t",
        "outputId": "21ea3748-6d99-46b4-b274-f26b84aabf7f"
      },
      "execution_count": null,
      "outputs": [
        {
          "output_type": "stream",
          "name": "stdout",
          "text": [
            "Cleaned Dataset:\n",
            "      SquareFeet  Bedrooms  Bathrooms       Age    Garage   Price\n",
            "0     -1.127382  0.203797  -0.366546 -0.742972  0.519234  237210\n",
            "1      1.403025  1.336001   1.358377 -0.462935 -0.391703  836237\n",
            "2      0.812133 -0.362305  -1.229008 -0.427931  1.430171  912557\n",
            "3     -1.469752  1.336001   0.495915  1.147274 -1.302640  194990\n",
            "4      1.118006 -1.494510   1.358377 -1.478067 -0.391703  208518\n",
            "..          ...       ...        ...       ...       ...     ...\n",
            "195    0.898160  1.336001  -0.366546  1.112270 -0.391703  332247\n",
            "196   -0.400933  0.203797   0.495915 -0.707967  0.519234  114772\n",
            "197    1.593326  0.769899  -0.366546  1.007256  1.430171  176108\n",
            "198   -0.442643  0.203797  -0.366546  1.427310  1.430171   64382\n",
            "199   -0.619042 -0.928408  -1.229008  0.027129 -0.391703  134291\n",
            "\n",
            "[200 rows x 6 columns]\n"
          ]
        }
      ]
    },
    {
      "cell_type": "markdown",
      "source": [
        "7. Normalize/Standardize the feature variables."
      ],
      "metadata": {
        "id": "0KT6xnk8tw1m"
      }
    },
    {
      "cell_type": "code",
      "source": [
        "from sklearn.preprocessing import MinMaxScaler, StandardScaler"
      ],
      "metadata": {
        "id": "f2tNBR84sIlw"
      },
      "execution_count": null,
      "outputs": []
    },
    {
      "cell_type": "markdown",
      "source": [
        "Normalize the Data"
      ],
      "metadata": {
        "id": "XGt8o4Hiuq01"
      }
    },
    {
      "cell_type": "code",
      "source": [
        "# Normalize the data\n",
        "min_max_scaler = MinMaxScaler()\n",
        "normalized_data = min_max_scaler.fit_transform(df)\n",
        "\n",
        "# Convert back to DataFrame\n",
        "df_normalized = pd.DataFrame(normalized_data, columns=df.columns)\n",
        "\n",
        "# Display normalized data\n",
        "print(\"Normalized Data:\\n\", df_normalized.head())\n"
      ],
      "metadata": {
        "colab": {
          "base_uri": "https://localhost:8080/"
        },
        "id": "Ucqiu2PGuBzu",
        "outputId": "9860b711-2646-4996-94c7-bac0d2235384"
      },
      "execution_count": null,
      "outputs": [
        {
          "output_type": "stream",
          "name": "stdout",
          "text": [
            "Normalized Data:\n",
            "    SquareFeet  Bedrooms  Bathrooms       Age    Garage     Price\n",
            "0    0.198701       0.6   0.333333  0.285714  0.666667  0.195847\n",
            "1    0.899206       1.0   1.000000  0.367347  0.333333  0.828995\n",
            "2    0.735627       0.4   0.000000  0.377551  1.000000  0.909662\n",
            "3    0.103921       1.0   0.666667  0.836735  0.000000  0.151222\n",
            "4    0.820303       0.0   1.000000  0.071429  0.333333  0.165521\n"
          ]
        }
      ]
    },
    {
      "cell_type": "markdown",
      "source": [
        "Standardize the Data"
      ],
      "metadata": {
        "id": "_oChNZVrusZ-"
      }
    },
    {
      "cell_type": "code",
      "source": [
        "# Standardize the data\n",
        "standard_scaler = StandardScaler()\n",
        "standardized_data = standard_scaler.fit_transform(df)\n",
        "\n",
        "# Convert back to DataFrame\n",
        "df_standardized = pd.DataFrame(standardized_data, columns=df.columns)\n",
        "\n",
        "# Display standardized data\n",
        "print(\"Standardized Data:\\n\", df_standardized.head())\n"
      ],
      "metadata": {
        "colab": {
          "base_uri": "https://localhost:8080/"
        },
        "id": "6FxvUbFauH-Z",
        "outputId": "1ef83d0c-aa02-4e90-b9f4-f770391c697d"
      },
      "execution_count": null,
      "outputs": [
        {
          "output_type": "stream",
          "name": "stdout",
          "text": [
            "Standardized Data:\n",
            "    SquareFeet  Bedrooms  Bathrooms       Age    Garage     Price\n",
            "0   -1.127382  0.203797  -0.366546 -0.742972  0.519234 -1.023684\n",
            "1    1.403025  1.336001   1.358377 -0.462935 -0.391703  1.076560\n",
            "2    0.812133 -0.362305  -1.229008 -0.427931  1.430171  1.344145\n",
            "3   -1.469752  1.336001   0.495915  1.147274 -1.302640 -1.171712\n",
            "4    1.118006 -1.494510   1.358377 -1.478067 -0.391703 -1.124281\n"
          ]
        }
      ]
    },
    {
      "cell_type": "markdown",
      "source": [
        "8. Model Implementation"
      ],
      "metadata": {
        "id": "L7r9UZPzu1Y9"
      }
    },
    {
      "cell_type": "code",
      "source": [
        "from sklearn.model_selection import train_test_split\n",
        "from sklearn.linear_model import Ridge, Lasso\n",
        "from sklearn.metrics import  mean_absolute_error, mean_squared_error, r2_score"
      ],
      "metadata": {
        "id": "2ebrGjISugLZ"
      },
      "execution_count": null,
      "outputs": []
    },
    {
      "cell_type": "markdown",
      "source": [
        "9. Split the dataset into training and testing sets."
      ],
      "metadata": {
        "id": "tEufbfQqvcZO"
      }
    },
    {
      "cell_type": "code",
      "source": [
        "# Split data\n",
        "X = df.drop('Price', axis=1)\n",
        "y = df['Price']\n",
        "X_train, X_test, y_train, y_test = train_test_split(X, y,test_size=0.2, random_state=42)"
      ],
      "metadata": {
        "id": "BqYOq1ycvfNv"
      },
      "execution_count": null,
      "outputs": []
    },
    {
      "cell_type": "markdown",
      "source": [
        "10. Implement a Ridge Regression model:\n"
      ],
      "metadata": {
        "id": "OecYIv16voL_"
      }
    },
    {
      "cell_type": "code",
      "source": [
        "# Ridge Regression\n",
        "ridge = Ridge(alpha=1.0)\n",
        "ridge.fit(X_train, y_train)"
      ],
      "metadata": {
        "colab": {
          "base_uri": "https://localhost:8080/",
          "height": 80
        },
        "id": "x4Z4T1qs1qVk",
        "outputId": "ef81967e-916b-4c9c-bff3-4b78f7f5a8be"
      },
      "execution_count": null,
      "outputs": [
        {
          "output_type": "execute_result",
          "data": {
            "text/plain": [
              "Ridge()"
            ],
            "text/html": [
              "<style>#sk-container-id-1 {\n",
              "  /* Definition of color scheme common for light and dark mode */\n",
              "  --sklearn-color-text: black;\n",
              "  --sklearn-color-line: gray;\n",
              "  /* Definition of color scheme for unfitted estimators */\n",
              "  --sklearn-color-unfitted-level-0: #fff5e6;\n",
              "  --sklearn-color-unfitted-level-1: #f6e4d2;\n",
              "  --sklearn-color-unfitted-level-2: #ffe0b3;\n",
              "  --sklearn-color-unfitted-level-3: chocolate;\n",
              "  /* Definition of color scheme for fitted estimators */\n",
              "  --sklearn-color-fitted-level-0: #f0f8ff;\n",
              "  --sklearn-color-fitted-level-1: #d4ebff;\n",
              "  --sklearn-color-fitted-level-2: #b3dbfd;\n",
              "  --sklearn-color-fitted-level-3: cornflowerblue;\n",
              "\n",
              "  /* Specific color for light theme */\n",
              "  --sklearn-color-text-on-default-background: var(--sg-text-color, var(--theme-code-foreground, var(--jp-content-font-color1, black)));\n",
              "  --sklearn-color-background: var(--sg-background-color, var(--theme-background, var(--jp-layout-color0, white)));\n",
              "  --sklearn-color-border-box: var(--sg-text-color, var(--theme-code-foreground, var(--jp-content-font-color1, black)));\n",
              "  --sklearn-color-icon: #696969;\n",
              "\n",
              "  @media (prefers-color-scheme: dark) {\n",
              "    /* Redefinition of color scheme for dark theme */\n",
              "    --sklearn-color-text-on-default-background: var(--sg-text-color, var(--theme-code-foreground, var(--jp-content-font-color1, white)));\n",
              "    --sklearn-color-background: var(--sg-background-color, var(--theme-background, var(--jp-layout-color0, #111)));\n",
              "    --sklearn-color-border-box: var(--sg-text-color, var(--theme-code-foreground, var(--jp-content-font-color1, white)));\n",
              "    --sklearn-color-icon: #878787;\n",
              "  }\n",
              "}\n",
              "\n",
              "#sk-container-id-1 {\n",
              "  color: var(--sklearn-color-text);\n",
              "}\n",
              "\n",
              "#sk-container-id-1 pre {\n",
              "  padding: 0;\n",
              "}\n",
              "\n",
              "#sk-container-id-1 input.sk-hidden--visually {\n",
              "  border: 0;\n",
              "  clip: rect(1px 1px 1px 1px);\n",
              "  clip: rect(1px, 1px, 1px, 1px);\n",
              "  height: 1px;\n",
              "  margin: -1px;\n",
              "  overflow: hidden;\n",
              "  padding: 0;\n",
              "  position: absolute;\n",
              "  width: 1px;\n",
              "}\n",
              "\n",
              "#sk-container-id-1 div.sk-dashed-wrapped {\n",
              "  border: 1px dashed var(--sklearn-color-line);\n",
              "  margin: 0 0.4em 0.5em 0.4em;\n",
              "  box-sizing: border-box;\n",
              "  padding-bottom: 0.4em;\n",
              "  background-color: var(--sklearn-color-background);\n",
              "}\n",
              "\n",
              "#sk-container-id-1 div.sk-container {\n",
              "  /* jupyter's `normalize.less` sets `[hidden] { display: none; }`\n",
              "     but bootstrap.min.css set `[hidden] { display: none !important; }`\n",
              "     so we also need the `!important` here to be able to override the\n",
              "     default hidden behavior on the sphinx rendered scikit-learn.org.\n",
              "     See: https://github.com/scikit-learn/scikit-learn/issues/21755 */\n",
              "  display: inline-block !important;\n",
              "  position: relative;\n",
              "}\n",
              "\n",
              "#sk-container-id-1 div.sk-text-repr-fallback {\n",
              "  display: none;\n",
              "}\n",
              "\n",
              "div.sk-parallel-item,\n",
              "div.sk-serial,\n",
              "div.sk-item {\n",
              "  /* draw centered vertical line to link estimators */\n",
              "  background-image: linear-gradient(var(--sklearn-color-text-on-default-background), var(--sklearn-color-text-on-default-background));\n",
              "  background-size: 2px 100%;\n",
              "  background-repeat: no-repeat;\n",
              "  background-position: center center;\n",
              "}\n",
              "\n",
              "/* Parallel-specific style estimator block */\n",
              "\n",
              "#sk-container-id-1 div.sk-parallel-item::after {\n",
              "  content: \"\";\n",
              "  width: 100%;\n",
              "  border-bottom: 2px solid var(--sklearn-color-text-on-default-background);\n",
              "  flex-grow: 1;\n",
              "}\n",
              "\n",
              "#sk-container-id-1 div.sk-parallel {\n",
              "  display: flex;\n",
              "  align-items: stretch;\n",
              "  justify-content: center;\n",
              "  background-color: var(--sklearn-color-background);\n",
              "  position: relative;\n",
              "}\n",
              "\n",
              "#sk-container-id-1 div.sk-parallel-item {\n",
              "  display: flex;\n",
              "  flex-direction: column;\n",
              "}\n",
              "\n",
              "#sk-container-id-1 div.sk-parallel-item:first-child::after {\n",
              "  align-self: flex-end;\n",
              "  width: 50%;\n",
              "}\n",
              "\n",
              "#sk-container-id-1 div.sk-parallel-item:last-child::after {\n",
              "  align-self: flex-start;\n",
              "  width: 50%;\n",
              "}\n",
              "\n",
              "#sk-container-id-1 div.sk-parallel-item:only-child::after {\n",
              "  width: 0;\n",
              "}\n",
              "\n",
              "/* Serial-specific style estimator block */\n",
              "\n",
              "#sk-container-id-1 div.sk-serial {\n",
              "  display: flex;\n",
              "  flex-direction: column;\n",
              "  align-items: center;\n",
              "  background-color: var(--sklearn-color-background);\n",
              "  padding-right: 1em;\n",
              "  padding-left: 1em;\n",
              "}\n",
              "\n",
              "\n",
              "/* Toggleable style: style used for estimator/Pipeline/ColumnTransformer box that is\n",
              "clickable and can be expanded/collapsed.\n",
              "- Pipeline and ColumnTransformer use this feature and define the default style\n",
              "- Estimators will overwrite some part of the style using the `sk-estimator` class\n",
              "*/\n",
              "\n",
              "/* Pipeline and ColumnTransformer style (default) */\n",
              "\n",
              "#sk-container-id-1 div.sk-toggleable {\n",
              "  /* Default theme specific background. It is overwritten whether we have a\n",
              "  specific estimator or a Pipeline/ColumnTransformer */\n",
              "  background-color: var(--sklearn-color-background);\n",
              "}\n",
              "\n",
              "/* Toggleable label */\n",
              "#sk-container-id-1 label.sk-toggleable__label {\n",
              "  cursor: pointer;\n",
              "  display: block;\n",
              "  width: 100%;\n",
              "  margin-bottom: 0;\n",
              "  padding: 0.5em;\n",
              "  box-sizing: border-box;\n",
              "  text-align: center;\n",
              "}\n",
              "\n",
              "#sk-container-id-1 label.sk-toggleable__label-arrow:before {\n",
              "  /* Arrow on the left of the label */\n",
              "  content: \"▸\";\n",
              "  float: left;\n",
              "  margin-right: 0.25em;\n",
              "  color: var(--sklearn-color-icon);\n",
              "}\n",
              "\n",
              "#sk-container-id-1 label.sk-toggleable__label-arrow:hover:before {\n",
              "  color: var(--sklearn-color-text);\n",
              "}\n",
              "\n",
              "/* Toggleable content - dropdown */\n",
              "\n",
              "#sk-container-id-1 div.sk-toggleable__content {\n",
              "  max-height: 0;\n",
              "  max-width: 0;\n",
              "  overflow: hidden;\n",
              "  text-align: left;\n",
              "  /* unfitted */\n",
              "  background-color: var(--sklearn-color-unfitted-level-0);\n",
              "}\n",
              "\n",
              "#sk-container-id-1 div.sk-toggleable__content.fitted {\n",
              "  /* fitted */\n",
              "  background-color: var(--sklearn-color-fitted-level-0);\n",
              "}\n",
              "\n",
              "#sk-container-id-1 div.sk-toggleable__content pre {\n",
              "  margin: 0.2em;\n",
              "  border-radius: 0.25em;\n",
              "  color: var(--sklearn-color-text);\n",
              "  /* unfitted */\n",
              "  background-color: var(--sklearn-color-unfitted-level-0);\n",
              "}\n",
              "\n",
              "#sk-container-id-1 div.sk-toggleable__content.fitted pre {\n",
              "  /* unfitted */\n",
              "  background-color: var(--sklearn-color-fitted-level-0);\n",
              "}\n",
              "\n",
              "#sk-container-id-1 input.sk-toggleable__control:checked~div.sk-toggleable__content {\n",
              "  /* Expand drop-down */\n",
              "  max-height: 200px;\n",
              "  max-width: 100%;\n",
              "  overflow: auto;\n",
              "}\n",
              "\n",
              "#sk-container-id-1 input.sk-toggleable__control:checked~label.sk-toggleable__label-arrow:before {\n",
              "  content: \"▾\";\n",
              "}\n",
              "\n",
              "/* Pipeline/ColumnTransformer-specific style */\n",
              "\n",
              "#sk-container-id-1 div.sk-label input.sk-toggleable__control:checked~label.sk-toggleable__label {\n",
              "  color: var(--sklearn-color-text);\n",
              "  background-color: var(--sklearn-color-unfitted-level-2);\n",
              "}\n",
              "\n",
              "#sk-container-id-1 div.sk-label.fitted input.sk-toggleable__control:checked~label.sk-toggleable__label {\n",
              "  background-color: var(--sklearn-color-fitted-level-2);\n",
              "}\n",
              "\n",
              "/* Estimator-specific style */\n",
              "\n",
              "/* Colorize estimator box */\n",
              "#sk-container-id-1 div.sk-estimator input.sk-toggleable__control:checked~label.sk-toggleable__label {\n",
              "  /* unfitted */\n",
              "  background-color: var(--sklearn-color-unfitted-level-2);\n",
              "}\n",
              "\n",
              "#sk-container-id-1 div.sk-estimator.fitted input.sk-toggleable__control:checked~label.sk-toggleable__label {\n",
              "  /* fitted */\n",
              "  background-color: var(--sklearn-color-fitted-level-2);\n",
              "}\n",
              "\n",
              "#sk-container-id-1 div.sk-label label.sk-toggleable__label,\n",
              "#sk-container-id-1 div.sk-label label {\n",
              "  /* The background is the default theme color */\n",
              "  color: var(--sklearn-color-text-on-default-background);\n",
              "}\n",
              "\n",
              "/* On hover, darken the color of the background */\n",
              "#sk-container-id-1 div.sk-label:hover label.sk-toggleable__label {\n",
              "  color: var(--sklearn-color-text);\n",
              "  background-color: var(--sklearn-color-unfitted-level-2);\n",
              "}\n",
              "\n",
              "/* Label box, darken color on hover, fitted */\n",
              "#sk-container-id-1 div.sk-label.fitted:hover label.sk-toggleable__label.fitted {\n",
              "  color: var(--sklearn-color-text);\n",
              "  background-color: var(--sklearn-color-fitted-level-2);\n",
              "}\n",
              "\n",
              "/* Estimator label */\n",
              "\n",
              "#sk-container-id-1 div.sk-label label {\n",
              "  font-family: monospace;\n",
              "  font-weight: bold;\n",
              "  display: inline-block;\n",
              "  line-height: 1.2em;\n",
              "}\n",
              "\n",
              "#sk-container-id-1 div.sk-label-container {\n",
              "  text-align: center;\n",
              "}\n",
              "\n",
              "/* Estimator-specific */\n",
              "#sk-container-id-1 div.sk-estimator {\n",
              "  font-family: monospace;\n",
              "  border: 1px dotted var(--sklearn-color-border-box);\n",
              "  border-radius: 0.25em;\n",
              "  box-sizing: border-box;\n",
              "  margin-bottom: 0.5em;\n",
              "  /* unfitted */\n",
              "  background-color: var(--sklearn-color-unfitted-level-0);\n",
              "}\n",
              "\n",
              "#sk-container-id-1 div.sk-estimator.fitted {\n",
              "  /* fitted */\n",
              "  background-color: var(--sklearn-color-fitted-level-0);\n",
              "}\n",
              "\n",
              "/* on hover */\n",
              "#sk-container-id-1 div.sk-estimator:hover {\n",
              "  /* unfitted */\n",
              "  background-color: var(--sklearn-color-unfitted-level-2);\n",
              "}\n",
              "\n",
              "#sk-container-id-1 div.sk-estimator.fitted:hover {\n",
              "  /* fitted */\n",
              "  background-color: var(--sklearn-color-fitted-level-2);\n",
              "}\n",
              "\n",
              "/* Specification for estimator info (e.g. \"i\" and \"?\") */\n",
              "\n",
              "/* Common style for \"i\" and \"?\" */\n",
              "\n",
              ".sk-estimator-doc-link,\n",
              "a:link.sk-estimator-doc-link,\n",
              "a:visited.sk-estimator-doc-link {\n",
              "  float: right;\n",
              "  font-size: smaller;\n",
              "  line-height: 1em;\n",
              "  font-family: monospace;\n",
              "  background-color: var(--sklearn-color-background);\n",
              "  border-radius: 1em;\n",
              "  height: 1em;\n",
              "  width: 1em;\n",
              "  text-decoration: none !important;\n",
              "  margin-left: 1ex;\n",
              "  /* unfitted */\n",
              "  border: var(--sklearn-color-unfitted-level-1) 1pt solid;\n",
              "  color: var(--sklearn-color-unfitted-level-1);\n",
              "}\n",
              "\n",
              ".sk-estimator-doc-link.fitted,\n",
              "a:link.sk-estimator-doc-link.fitted,\n",
              "a:visited.sk-estimator-doc-link.fitted {\n",
              "  /* fitted */\n",
              "  border: var(--sklearn-color-fitted-level-1) 1pt solid;\n",
              "  color: var(--sklearn-color-fitted-level-1);\n",
              "}\n",
              "\n",
              "/* On hover */\n",
              "div.sk-estimator:hover .sk-estimator-doc-link:hover,\n",
              ".sk-estimator-doc-link:hover,\n",
              "div.sk-label-container:hover .sk-estimator-doc-link:hover,\n",
              ".sk-estimator-doc-link:hover {\n",
              "  /* unfitted */\n",
              "  background-color: var(--sklearn-color-unfitted-level-3);\n",
              "  color: var(--sklearn-color-background);\n",
              "  text-decoration: none;\n",
              "}\n",
              "\n",
              "div.sk-estimator.fitted:hover .sk-estimator-doc-link.fitted:hover,\n",
              ".sk-estimator-doc-link.fitted:hover,\n",
              "div.sk-label-container:hover .sk-estimator-doc-link.fitted:hover,\n",
              ".sk-estimator-doc-link.fitted:hover {\n",
              "  /* fitted */\n",
              "  background-color: var(--sklearn-color-fitted-level-3);\n",
              "  color: var(--sklearn-color-background);\n",
              "  text-decoration: none;\n",
              "}\n",
              "\n",
              "/* Span, style for the box shown on hovering the info icon */\n",
              ".sk-estimator-doc-link span {\n",
              "  display: none;\n",
              "  z-index: 9999;\n",
              "  position: relative;\n",
              "  font-weight: normal;\n",
              "  right: .2ex;\n",
              "  padding: .5ex;\n",
              "  margin: .5ex;\n",
              "  width: min-content;\n",
              "  min-width: 20ex;\n",
              "  max-width: 50ex;\n",
              "  color: var(--sklearn-color-text);\n",
              "  box-shadow: 2pt 2pt 4pt #999;\n",
              "  /* unfitted */\n",
              "  background: var(--sklearn-color-unfitted-level-0);\n",
              "  border: .5pt solid var(--sklearn-color-unfitted-level-3);\n",
              "}\n",
              "\n",
              ".sk-estimator-doc-link.fitted span {\n",
              "  /* fitted */\n",
              "  background: var(--sklearn-color-fitted-level-0);\n",
              "  border: var(--sklearn-color-fitted-level-3);\n",
              "}\n",
              "\n",
              ".sk-estimator-doc-link:hover span {\n",
              "  display: block;\n",
              "}\n",
              "\n",
              "/* \"?\"-specific style due to the `<a>` HTML tag */\n",
              "\n",
              "#sk-container-id-1 a.estimator_doc_link {\n",
              "  float: right;\n",
              "  font-size: 1rem;\n",
              "  line-height: 1em;\n",
              "  font-family: monospace;\n",
              "  background-color: var(--sklearn-color-background);\n",
              "  border-radius: 1rem;\n",
              "  height: 1rem;\n",
              "  width: 1rem;\n",
              "  text-decoration: none;\n",
              "  /* unfitted */\n",
              "  color: var(--sklearn-color-unfitted-level-1);\n",
              "  border: var(--sklearn-color-unfitted-level-1) 1pt solid;\n",
              "}\n",
              "\n",
              "#sk-container-id-1 a.estimator_doc_link.fitted {\n",
              "  /* fitted */\n",
              "  border: var(--sklearn-color-fitted-level-1) 1pt solid;\n",
              "  color: var(--sklearn-color-fitted-level-1);\n",
              "}\n",
              "\n",
              "/* On hover */\n",
              "#sk-container-id-1 a.estimator_doc_link:hover {\n",
              "  /* unfitted */\n",
              "  background-color: var(--sklearn-color-unfitted-level-3);\n",
              "  color: var(--sklearn-color-background);\n",
              "  text-decoration: none;\n",
              "}\n",
              "\n",
              "#sk-container-id-1 a.estimator_doc_link.fitted:hover {\n",
              "  /* fitted */\n",
              "  background-color: var(--sklearn-color-fitted-level-3);\n",
              "}\n",
              "</style><div id=\"sk-container-id-1\" class=\"sk-top-container\"><div class=\"sk-text-repr-fallback\"><pre>Ridge()</pre><b>In a Jupyter environment, please rerun this cell to show the HTML representation or trust the notebook. <br />On GitHub, the HTML representation is unable to render, please try loading this page with nbviewer.org.</b></div><div class=\"sk-container\" hidden><div class=\"sk-item\"><div class=\"sk-estimator fitted sk-toggleable\"><input class=\"sk-toggleable__control sk-hidden--visually\" id=\"sk-estimator-id-1\" type=\"checkbox\" checked><label for=\"sk-estimator-id-1\" class=\"sk-toggleable__label fitted sk-toggleable__label-arrow fitted\">&nbsp;&nbsp;Ridge<a class=\"sk-estimator-doc-link fitted\" rel=\"noreferrer\" target=\"_blank\" href=\"https://scikit-learn.org/1.5/modules/generated/sklearn.linear_model.Ridge.html\">?<span>Documentation for Ridge</span></a><span class=\"sk-estimator-doc-link fitted\">i<span>Fitted</span></span></label><div class=\"sk-toggleable__content fitted\"><pre>Ridge()</pre></div> </div></div></div></div>"
            ]
          },
          "metadata": {},
          "execution_count": 21
        }
      ]
    },
    {
      "cell_type": "markdown",
      "source": [
        "11. Train the model with varying values of the regularization strength (alpha).\n"
      ],
      "metadata": {
        "id": "Ev8GJZg810qP"
      }
    },
    {
      "cell_type": "code",
      "source": [
        "# Define a list of alpha values to test\n",
        "alpha_values = [0.1, 1, 10, 100, 200]\n",
        "\n",
        "# Dictionary to store results\n",
        "results = {}\n",
        "\n",
        "# Train Ridge models for each alpha value\n",
        "for alpha in alpha_values:\n",
        "    # Initialize the model with the current alpha\n",
        "    ridge_model = Ridge(alpha=alpha)\n",
        "    ridge_model.fit(X_train, y_train)  # Train on training set\n",
        "\n",
        "    # Make predictions on the test set\n",
        "    y_pred_ridge = ridge_model.predict(X_test)\n",
        "\n",
        "    # Calculate Mean Absolute Error (MAE) as the evaluation metric\n",
        "    mae = mean_absolute_error(y_test, y_pred_ridge)\n",
        "\n",
        "    # Store the result\n",
        "    results[alpha] = mae\n",
        "\n",
        "# Display the results\n",
        "for alpha, mae in results.items():\n",
        "    print(f\"Alpha: {alpha}, MAE: {mae}\")"
      ],
      "metadata": {
        "colab": {
          "base_uri": "https://localhost:8080/"
        },
        "id": "W-mmCEsd3Weo",
        "outputId": "ee8d95af-15be-44b8-b611-0440bf6ea2dc"
      },
      "execution_count": null,
      "outputs": [
        {
          "output_type": "stream",
          "name": "stdout",
          "text": [
            "Alpha: 0.1, MAE: 244807.25382170881\n",
            "Alpha: 1, MAE: 244798.69516091788\n",
            "Alpha: 10, MAE: 244718.505798331\n",
            "Alpha: 100, MAE: 244517.5828761516\n",
            "Alpha: 200, MAE: 244647.4490236764\n"
          ]
        }
      ]
    },
    {
      "cell_type": "markdown",
      "source": [
        "12. Evaluate the model's performance on the test set."
      ],
      "metadata": {
        "id": "fqIFvQOF19D5"
      }
    },
    {
      "cell_type": "code",
      "source": [
        "# Ridge Regression\n",
        "ridge = Ridge(alpha=1.0)\n",
        "ridge.fit(X_train, y_train)\n",
        "\n",
        "# Make predictions on the test set using the trained Ridge model\n",
        "y_pred = ridge.predict(X_test)\n",
        "\n",
        "# Calculate evaluation metrics\n",
        "mae = mean_absolute_error(y_test, y_pred)\n",
        "mse = mean_squared_error(y_test, y_pred)\n",
        "r2 = r2_score(y_test, y_pred)\n",
        "\n",
        "# Display the results\n",
        "print(\"Mean Absolute Error (MAE):\", mae)\n",
        "print(\"Mean Squared Error (MSE):\", mse)\n",
        "print(\"R-squared (R²):\", r2)"
      ],
      "metadata": {
        "colab": {
          "base_uri": "https://localhost:8080/"
        },
        "id": "eC6L-2iN18hQ",
        "outputId": "514d16a4-39b5-4959-ad12-e7b0b686640c"
      },
      "execution_count": null,
      "outputs": [
        {
          "output_type": "stream",
          "name": "stdout",
          "text": [
            "Mean Absolute Error (MAE): 244798.69516091788\n",
            "Mean Squared Error (MSE): 76171530280.23502\n",
            "R-squared (R²): -0.04579952566229606\n"
          ]
        }
      ]
    },
    {
      "cell_type": "markdown",
      "source": [
        " 13. Implement a Lasso Regression model:\n"
      ],
      "metadata": {
        "id": "5rF5vbfBxhm1"
      }
    },
    {
      "cell_type": "code",
      "source": [
        "from sklearn.linear_model import Lasso"
      ],
      "metadata": {
        "id": "CQm6cgRQ7gsH"
      },
      "execution_count": null,
      "outputs": []
    },
    {
      "cell_type": "code",
      "source": [
        "# Lasso Regression\n",
        "lasso = Lasso(alpha=1.0)\n",
        "lasso.fit(X_train, y_train)\n",
        "y_pred_lasso = lasso.predict(X_test)\n",
        "mse_lasso = mean_squared_error(y_test, y_pred_lasso)\n",
        "print(f\"Lasso Regression MSE: {mse_lasso}\")"
      ],
      "metadata": {
        "colab": {
          "base_uri": "https://localhost:8080/"
        },
        "id": "vbAlkPjCwqRG",
        "outputId": "69dcd850-11f7-4a49-e8a5-14e1a59c2643"
      },
      "execution_count": null,
      "outputs": [
        {
          "output_type": "stream",
          "name": "stdout",
          "text": [
            "Lasso Regression MSE: 76196381201.15527\n"
          ]
        }
      ]
    },
    {
      "cell_type": "markdown",
      "source": [
        " 14. Train the model with varying values of the regularization strength (alpha).\n"
      ],
      "metadata": {
        "id": "NmoF5-Om7Dq9"
      }
    },
    {
      "cell_type": "code",
      "source": [
        "for alpha in alpha_values:\n",
        "    # Initialize the Lasso model with the current alpha\n",
        "    lasso_model = Lasso(alpha=alpha, max_iter=10000)  # max_iter helps with convergence\n",
        "    lasso_model.fit(X_train, y_train)  # Train on training set\n",
        "\n",
        "    # Make predictions on the test set\n",
        "    y_pred_lasso = lasso_model.predict(X_test)"
      ],
      "metadata": {
        "id": "fQPPTUB37GVH"
      },
      "execution_count": null,
      "outputs": []
    },
    {
      "cell_type": "markdown",
      "source": [
        " 15. Evaluate the model's performance on the\n",
        "test set."
      ],
      "metadata": {
        "id": "tMdg32Jd7F6P"
      }
    },
    {
      "cell_type": "code",
      "source": [
        "# Calculate evaluation metrics\n",
        "mae = mean_absolute_error(y_test, y_pred_lasso)\n",
        "mse = mean_squared_error(y_test, y_pred_lasso)\n",
        "r2 = r2_score(y_test, y_pred_lasso)\n",
        "\n",
        "# Display the results\n",
        "print(\"Model Performance on Test Set:\")\n",
        "print(\"Mean Absolute Error (MAE):\", mae)\n",
        "print(\"Mean Squared Error (MSE):\", mse)\n",
        "print(\"R-squared (R²):\", r2)"
      ],
      "metadata": {
        "colab": {
          "base_uri": "https://localhost:8080/"
        },
        "id": "6QjEb-JQ8FLw",
        "outputId": "8e9198ce-d426-4c24-c8a3-07927ca89522"
      },
      "execution_count": null,
      "outputs": [
        {
          "output_type": "stream",
          "name": "stdout",
          "text": [
            "Model Performance on Test Set:\n",
            "Mean Absolute Error (MAE): 244780.67531942204\n",
            "Mean Squared Error (MSE): 76152527288.4838\n",
            "R-squared (R²): -0.0455386234631876\n"
          ]
        }
      ]
    },
    {
      "cell_type": "markdown",
      "source": [
        "16. Model Comparison:\n"
      ],
      "metadata": {
        "id": "ujHWQUscyoSl"
      }
    },
    {
      "cell_type": "code",
      "source": [
        "# Define models and their respective alpha values\n",
        "models = {\n",
        "    'Lasso Regression (alpha=1)': Lasso(alpha=1, max_iter=10000),\n",
        "    'Ridge Regression (alpha=1)': Ridge(alpha=1)\n",
        "}"
      ],
      "metadata": {
        "id": "1jGYE0Cn9aQP"
      },
      "execution_count": null,
      "outputs": []
    },
    {
      "cell_type": "markdown",
      "source": [
        "17. Compare the performance of the Ridge and Lasso regression models.\n"
      ],
      "metadata": {
        "id": "kKrVEc4L-rUH"
      }
    },
    {
      "cell_type": "code",
      "source": [
        "# Step 4: Define the alpha values for Lasso and Ridge\n",
        "alpha_lasso = 1.0  # Lasso regularization strength\n",
        "alpha_ridge = 1.0  # Ridge regularization strength\n",
        "\n",
        "# Step 5: Train Lasso Regression model\n",
        "lasso_model = Lasso(alpha=alpha_lasso, max_iter=10000)\n",
        "lasso_model.fit(X_train, y_train)\n",
        "y_pred_lasso = lasso_model.predict(X_test)\n",
        "\n",
        "# Step 6: Train Ridge Regression model\n",
        "ridge_model = Ridge(alpha=alpha_ridge)\n",
        "ridge_model.fit(X_train, y_train)\n",
        "y_pred_ridge = ridge_model.predict(X_test)\n",
        "\n",
        "# Step 7: Calculate evaluation metrics for Lasso\n",
        "mae_lasso = mean_absolute_error(y_test, y_pred_lasso)\n",
        "mse_lasso = mean_squared_error(y_test, y_pred_lasso)\n",
        "r2_lasso = r2_score(y_test, y_pred_lasso)\n",
        "\n",
        "# Step 8: Calculate evaluation metrics for Ridge\n",
        "mae_ridge = mean_absolute_error(y_test, y_pred_ridge)\n",
        "mse_ridge = mean_squared_error(y_test, y_pred_ridge)\n",
        "r2_ridge = r2_score(y_test, y_pred_ridge)\n",
        "\n",
        "# Step 9: Create a DataFrame to display the results\n",
        "comparison_results = pd.DataFrame({\n",
        "    'Metric': ['Mean Absolute Error (MAE)', 'Mean Squared Error (MSE)', 'R-squared (R²)'],\n",
        "    'Lasso': [mae_lasso, mse_lasso, r2_lasso],\n",
        "    'Ridge': [mae_ridge, mse_ridge, r2_ridge]\n",
        "})\n",
        "\n",
        "# Step 10: Display the comparison results\n",
        "print(\"Comparison of Ridge and Lasso Regression Models:\")\n",
        "print(comparison_results)"
      ],
      "metadata": {
        "colab": {
          "base_uri": "https://localhost:8080/"
        },
        "id": "NdG9LSrh-it9",
        "outputId": "acaab22a-7acb-4e92-dfac-7877271a78dd"
      },
      "execution_count": null,
      "outputs": [
        {
          "output_type": "stream",
          "name": "stdout",
          "text": [
            "Comparison of Ridge and Lasso Regression Models:\n",
            "                      Metric         Lasso         Ridge\n",
            "0  Mean Absolute Error (MAE)  2.448081e+05  2.447987e+05\n",
            "1   Mean Squared Error (MSE)  7.619638e+10  7.617153e+10\n",
            "2             R-squared (R²) -4.614072e-02 -4.579953e-02\n"
          ]
        }
      ]
    },
    {
      "cell_type": "markdown",
      "source": [
        "18. Discuss the impact of regularization on the model coefficients."
      ],
      "metadata": {
        "id": "JsOlC1Uc-47z"
      }
    },
    {
      "cell_type": "code",
      "source": [
        "print(\"Ridge Coefficients:\", ridge.coef_)\n",
        "print(\"Lasso Coefficients:\", lasso.coef_)"
      ],
      "metadata": {
        "colab": {
          "base_uri": "https://localhost:8080/"
        },
        "id": "Rk4trQy-9yLm",
        "outputId": "95d40c0a-5a6b-4934-e21b-4e81dd2d7e68"
      },
      "execution_count": null,
      "outputs": [
        {
          "output_type": "stream",
          "name": "stdout",
          "text": [
            "Ridge Coefficients: [ 19653.06306383 -21246.96553075 -29920.38214371   5789.12184337\n",
            "  -3380.61528141]\n",
            "Lasso Coefficients: [ 19779.5989664  -21378.88507917 -30083.62669213   5784.80170411\n",
            "  -3398.46191482]\n"
          ]
        }
      ]
    },
    {
      "cell_type": "code",
      "source": [],
      "metadata": {
        "id": "tDdnODEhy4a3"
      },
      "execution_count": null,
      "outputs": []
    },
    {
      "cell_type": "markdown",
      "source": [
        "# 4. **Assignment: Sentiment Analysis of Product Reviews using Naive Bayes**"
      ],
      "metadata": {
        "id": "hD7gRcaHG8TD"
      }
    },
    {
      "cell_type": "markdown",
      "source": [
        "1. Data Exploration"
      ],
      "metadata": {
        "id": "jt4st6IuHa3S"
      }
    },
    {
      "cell_type": "code",
      "source": [
        "import pandas as pd\n",
        "import numpy as np\n",
        "# Mock dataset\n",
        "np.random.seed(42)\n",
        "reviews = [\"Great product\", \"Did not like it\", \"Works as expected\",\"Terrible experience\", \"Will buy again\", \"Disappointed\"]\n",
        "sentiments = [1, 0, 1, 0, 1, 0]\n",
        "data = {\n",
        "'ReviewText': np.random.choice(reviews, 100),\n",
        "'Sentiment': np.random.choice(sentiments, 100)\n",
        "}"
      ],
      "metadata": {
        "id": "75lEJDXJHMbj"
      },
      "execution_count": null,
      "outputs": []
    },
    {
      "cell_type": "markdown",
      "source": [
        "2. Load the dataset into a pandas DataFrame"
      ],
      "metadata": {
        "id": "a1UDz5xHH7rR"
      }
    },
    {
      "cell_type": "code",
      "source": [
        "df = pd.DataFrame(data)\n",
        "print (df)"
      ],
      "metadata": {
        "colab": {
          "base_uri": "https://localhost:8080/"
        },
        "id": "IfPLujMWH-zQ",
        "outputId": "bc81b1ef-f99c-4ba1-f4ae-e080b1aa1ab3"
      },
      "execution_count": null,
      "outputs": [
        {
          "output_type": "stream",
          "name": "stdout",
          "text": [
            "             ReviewText  Sentiment\n",
            "0   Terrible experience          1\n",
            "1        Will buy again          1\n",
            "2     Works as expected          1\n",
            "3        Will buy again          1\n",
            "4        Will buy again          1\n",
            "..                  ...        ...\n",
            "95  Terrible experience          1\n",
            "96  Terrible experience          0\n",
            "97       Will buy again          0\n",
            "98        Great product          1\n",
            "99       Will buy again          0\n",
            "\n",
            "[100 rows x 2 columns]\n"
          ]
        }
      ]
    },
    {
      "cell_type": "markdown",
      "source": [
        "3. Get a sense of the distribution of positive and negative reviews."
      ],
      "metadata": {
        "id": "4ddZOP--IWk6"
      }
    },
    {
      "cell_type": "code",
      "source": [
        "# Display distribution of positive and negative reviews\n",
        "print(df['Sentiment'].value_counts())"
      ],
      "metadata": {
        "colab": {
          "base_uri": "https://localhost:8080/"
        },
        "id": "4e1SdGnAIXfr",
        "outputId": "027fc493-c040-4b0c-9951-3b7f44c6255e"
      },
      "execution_count": null,
      "outputs": [
        {
          "output_type": "stream",
          "name": "stdout",
          "text": [
            "Sentiment\n",
            "1    58\n",
            "0    42\n",
            "Name: count, dtype: int64\n"
          ]
        }
      ]
    },
    {
      "cell_type": "markdown",
      "source": [
        "4. Display some sample reviews from both categories."
      ],
      "metadata": {
        "id": "cPnatwgpIdqB"
      }
    },
    {
      "cell_type": "code",
      "source": [
        "# Display some sample reviews\n",
        "print(df.sample(5))"
      ],
      "metadata": {
        "colab": {
          "base_uri": "https://localhost:8080/"
        },
        "id": "rWXhKMy-IcXI",
        "outputId": "698c0bf1-fba2-4a4e-82ae-63d83c32d138"
      },
      "execution_count": null,
      "outputs": [
        {
          "output_type": "stream",
          "name": "stdout",
          "text": [
            "        ReviewText  Sentiment\n",
            "9   Will buy again          1\n",
            "20  Will buy again          0\n",
            "12    Disappointed          1\n",
            "13  Will buy again          1\n",
            "70    Disappointed          0\n"
          ]
        }
      ]
    },
    {
      "cell_type": "markdown",
      "source": [
        "5. Data Preprocessing"
      ],
      "metadata": {
        "id": "wm6wntqtIpdR"
      }
    },
    {
      "cell_type": "code",
      "source": [
        "from sklearn.feature_extraction.text import CountVectorizer\n",
        "from sklearn.model_selection import train_test_split"
      ],
      "metadata": {
        "id": "s8DHUBSPIz-r"
      },
      "execution_count": null,
      "outputs": []
    },
    {
      "cell_type": "markdown",
      "source": [
        "6. Convert the review text data into a suitable numerical\n",
        "format using techniques like Bag-of-Words or TF-IDF"
      ],
      "metadata": {
        "id": "k5vp4g2uJBG6"
      }
    },
    {
      "cell_type": "code",
      "source": [
        "vectorizer = CountVectorizer()\n",
        "X = vectorizer.fit_transform(df['ReviewText'])\n",
        "y = df['Sentiment']"
      ],
      "metadata": {
        "id": "bpFNJ3PbI6wY"
      },
      "execution_count": null,
      "outputs": []
    },
    {
      "cell_type": "markdown",
      "source": [
        "7. Split the data into\n",
        "training and testing sets."
      ],
      "metadata": {
        "id": "4-kGg4x6JKpq"
      }
    },
    {
      "cell_type": "code",
      "source": [
        "X_train, X_test, y_train, y_test = train_test_split(X, y,test_size=0.2, random_state=42)"
      ],
      "metadata": {
        "id": "LjNaOnTHJMvH"
      },
      "execution_count": null,
      "outputs": []
    },
    {
      "cell_type": "markdown",
      "source": [
        "8. Model Implementation"
      ],
      "metadata": {
        "id": "o7usw4WCJfnK"
      }
    },
    {
      "cell_type": "code",
      "source": [
        "from sklearn.naive_bayes import MultinomialNB\n",
        "from sklearn.metrics import accuracy_score, f1_score"
      ],
      "metadata": {
        "id": "4Kjgw6GyJkUS"
      },
      "execution_count": null,
      "outputs": []
    },
    {
      "cell_type": "markdown",
      "source": [
        "9. Train a Naive Bayes classifier on the training data."
      ],
      "metadata": {
        "id": "d5oDg7mkJlVo"
      }
    },
    {
      "cell_type": "code",
      "source": [
        "# Train Naive Bayes classifier\n",
        "nb = MultinomialNB()\n",
        "nb.fit(X_train, y_train)"
      ],
      "metadata": {
        "colab": {
          "base_uri": "https://localhost:8080/",
          "height": 80
        },
        "id": "8D392OHkJn0w",
        "outputId": "c3c6d988-71c7-4911-c556-5cd629709aa6"
      },
      "execution_count": null,
      "outputs": [
        {
          "output_type": "execute_result",
          "data": {
            "text/plain": [
              "MultinomialNB()"
            ],
            "text/html": [
              "<style>#sk-container-id-2 {\n",
              "  /* Definition of color scheme common for light and dark mode */\n",
              "  --sklearn-color-text: black;\n",
              "  --sklearn-color-line: gray;\n",
              "  /* Definition of color scheme for unfitted estimators */\n",
              "  --sklearn-color-unfitted-level-0: #fff5e6;\n",
              "  --sklearn-color-unfitted-level-1: #f6e4d2;\n",
              "  --sklearn-color-unfitted-level-2: #ffe0b3;\n",
              "  --sklearn-color-unfitted-level-3: chocolate;\n",
              "  /* Definition of color scheme for fitted estimators */\n",
              "  --sklearn-color-fitted-level-0: #f0f8ff;\n",
              "  --sklearn-color-fitted-level-1: #d4ebff;\n",
              "  --sklearn-color-fitted-level-2: #b3dbfd;\n",
              "  --sklearn-color-fitted-level-3: cornflowerblue;\n",
              "\n",
              "  /* Specific color for light theme */\n",
              "  --sklearn-color-text-on-default-background: var(--sg-text-color, var(--theme-code-foreground, var(--jp-content-font-color1, black)));\n",
              "  --sklearn-color-background: var(--sg-background-color, var(--theme-background, var(--jp-layout-color0, white)));\n",
              "  --sklearn-color-border-box: var(--sg-text-color, var(--theme-code-foreground, var(--jp-content-font-color1, black)));\n",
              "  --sklearn-color-icon: #696969;\n",
              "\n",
              "  @media (prefers-color-scheme: dark) {\n",
              "    /* Redefinition of color scheme for dark theme */\n",
              "    --sklearn-color-text-on-default-background: var(--sg-text-color, var(--theme-code-foreground, var(--jp-content-font-color1, white)));\n",
              "    --sklearn-color-background: var(--sg-background-color, var(--theme-background, var(--jp-layout-color0, #111)));\n",
              "    --sklearn-color-border-box: var(--sg-text-color, var(--theme-code-foreground, var(--jp-content-font-color1, white)));\n",
              "    --sklearn-color-icon: #878787;\n",
              "  }\n",
              "}\n",
              "\n",
              "#sk-container-id-2 {\n",
              "  color: var(--sklearn-color-text);\n",
              "}\n",
              "\n",
              "#sk-container-id-2 pre {\n",
              "  padding: 0;\n",
              "}\n",
              "\n",
              "#sk-container-id-2 input.sk-hidden--visually {\n",
              "  border: 0;\n",
              "  clip: rect(1px 1px 1px 1px);\n",
              "  clip: rect(1px, 1px, 1px, 1px);\n",
              "  height: 1px;\n",
              "  margin: -1px;\n",
              "  overflow: hidden;\n",
              "  padding: 0;\n",
              "  position: absolute;\n",
              "  width: 1px;\n",
              "}\n",
              "\n",
              "#sk-container-id-2 div.sk-dashed-wrapped {\n",
              "  border: 1px dashed var(--sklearn-color-line);\n",
              "  margin: 0 0.4em 0.5em 0.4em;\n",
              "  box-sizing: border-box;\n",
              "  padding-bottom: 0.4em;\n",
              "  background-color: var(--sklearn-color-background);\n",
              "}\n",
              "\n",
              "#sk-container-id-2 div.sk-container {\n",
              "  /* jupyter's `normalize.less` sets `[hidden] { display: none; }`\n",
              "     but bootstrap.min.css set `[hidden] { display: none !important; }`\n",
              "     so we also need the `!important` here to be able to override the\n",
              "     default hidden behavior on the sphinx rendered scikit-learn.org.\n",
              "     See: https://github.com/scikit-learn/scikit-learn/issues/21755 */\n",
              "  display: inline-block !important;\n",
              "  position: relative;\n",
              "}\n",
              "\n",
              "#sk-container-id-2 div.sk-text-repr-fallback {\n",
              "  display: none;\n",
              "}\n",
              "\n",
              "div.sk-parallel-item,\n",
              "div.sk-serial,\n",
              "div.sk-item {\n",
              "  /* draw centered vertical line to link estimators */\n",
              "  background-image: linear-gradient(var(--sklearn-color-text-on-default-background), var(--sklearn-color-text-on-default-background));\n",
              "  background-size: 2px 100%;\n",
              "  background-repeat: no-repeat;\n",
              "  background-position: center center;\n",
              "}\n",
              "\n",
              "/* Parallel-specific style estimator block */\n",
              "\n",
              "#sk-container-id-2 div.sk-parallel-item::after {\n",
              "  content: \"\";\n",
              "  width: 100%;\n",
              "  border-bottom: 2px solid var(--sklearn-color-text-on-default-background);\n",
              "  flex-grow: 1;\n",
              "}\n",
              "\n",
              "#sk-container-id-2 div.sk-parallel {\n",
              "  display: flex;\n",
              "  align-items: stretch;\n",
              "  justify-content: center;\n",
              "  background-color: var(--sklearn-color-background);\n",
              "  position: relative;\n",
              "}\n",
              "\n",
              "#sk-container-id-2 div.sk-parallel-item {\n",
              "  display: flex;\n",
              "  flex-direction: column;\n",
              "}\n",
              "\n",
              "#sk-container-id-2 div.sk-parallel-item:first-child::after {\n",
              "  align-self: flex-end;\n",
              "  width: 50%;\n",
              "}\n",
              "\n",
              "#sk-container-id-2 div.sk-parallel-item:last-child::after {\n",
              "  align-self: flex-start;\n",
              "  width: 50%;\n",
              "}\n",
              "\n",
              "#sk-container-id-2 div.sk-parallel-item:only-child::after {\n",
              "  width: 0;\n",
              "}\n",
              "\n",
              "/* Serial-specific style estimator block */\n",
              "\n",
              "#sk-container-id-2 div.sk-serial {\n",
              "  display: flex;\n",
              "  flex-direction: column;\n",
              "  align-items: center;\n",
              "  background-color: var(--sklearn-color-background);\n",
              "  padding-right: 1em;\n",
              "  padding-left: 1em;\n",
              "}\n",
              "\n",
              "\n",
              "/* Toggleable style: style used for estimator/Pipeline/ColumnTransformer box that is\n",
              "clickable and can be expanded/collapsed.\n",
              "- Pipeline and ColumnTransformer use this feature and define the default style\n",
              "- Estimators will overwrite some part of the style using the `sk-estimator` class\n",
              "*/\n",
              "\n",
              "/* Pipeline and ColumnTransformer style (default) */\n",
              "\n",
              "#sk-container-id-2 div.sk-toggleable {\n",
              "  /* Default theme specific background. It is overwritten whether we have a\n",
              "  specific estimator or a Pipeline/ColumnTransformer */\n",
              "  background-color: var(--sklearn-color-background);\n",
              "}\n",
              "\n",
              "/* Toggleable label */\n",
              "#sk-container-id-2 label.sk-toggleable__label {\n",
              "  cursor: pointer;\n",
              "  display: block;\n",
              "  width: 100%;\n",
              "  margin-bottom: 0;\n",
              "  padding: 0.5em;\n",
              "  box-sizing: border-box;\n",
              "  text-align: center;\n",
              "}\n",
              "\n",
              "#sk-container-id-2 label.sk-toggleable__label-arrow:before {\n",
              "  /* Arrow on the left of the label */\n",
              "  content: \"▸\";\n",
              "  float: left;\n",
              "  margin-right: 0.25em;\n",
              "  color: var(--sklearn-color-icon);\n",
              "}\n",
              "\n",
              "#sk-container-id-2 label.sk-toggleable__label-arrow:hover:before {\n",
              "  color: var(--sklearn-color-text);\n",
              "}\n",
              "\n",
              "/* Toggleable content - dropdown */\n",
              "\n",
              "#sk-container-id-2 div.sk-toggleable__content {\n",
              "  max-height: 0;\n",
              "  max-width: 0;\n",
              "  overflow: hidden;\n",
              "  text-align: left;\n",
              "  /* unfitted */\n",
              "  background-color: var(--sklearn-color-unfitted-level-0);\n",
              "}\n",
              "\n",
              "#sk-container-id-2 div.sk-toggleable__content.fitted {\n",
              "  /* fitted */\n",
              "  background-color: var(--sklearn-color-fitted-level-0);\n",
              "}\n",
              "\n",
              "#sk-container-id-2 div.sk-toggleable__content pre {\n",
              "  margin: 0.2em;\n",
              "  border-radius: 0.25em;\n",
              "  color: var(--sklearn-color-text);\n",
              "  /* unfitted */\n",
              "  background-color: var(--sklearn-color-unfitted-level-0);\n",
              "}\n",
              "\n",
              "#sk-container-id-2 div.sk-toggleable__content.fitted pre {\n",
              "  /* unfitted */\n",
              "  background-color: var(--sklearn-color-fitted-level-0);\n",
              "}\n",
              "\n",
              "#sk-container-id-2 input.sk-toggleable__control:checked~div.sk-toggleable__content {\n",
              "  /* Expand drop-down */\n",
              "  max-height: 200px;\n",
              "  max-width: 100%;\n",
              "  overflow: auto;\n",
              "}\n",
              "\n",
              "#sk-container-id-2 input.sk-toggleable__control:checked~label.sk-toggleable__label-arrow:before {\n",
              "  content: \"▾\";\n",
              "}\n",
              "\n",
              "/* Pipeline/ColumnTransformer-specific style */\n",
              "\n",
              "#sk-container-id-2 div.sk-label input.sk-toggleable__control:checked~label.sk-toggleable__label {\n",
              "  color: var(--sklearn-color-text);\n",
              "  background-color: var(--sklearn-color-unfitted-level-2);\n",
              "}\n",
              "\n",
              "#sk-container-id-2 div.sk-label.fitted input.sk-toggleable__control:checked~label.sk-toggleable__label {\n",
              "  background-color: var(--sklearn-color-fitted-level-2);\n",
              "}\n",
              "\n",
              "/* Estimator-specific style */\n",
              "\n",
              "/* Colorize estimator box */\n",
              "#sk-container-id-2 div.sk-estimator input.sk-toggleable__control:checked~label.sk-toggleable__label {\n",
              "  /* unfitted */\n",
              "  background-color: var(--sklearn-color-unfitted-level-2);\n",
              "}\n",
              "\n",
              "#sk-container-id-2 div.sk-estimator.fitted input.sk-toggleable__control:checked~label.sk-toggleable__label {\n",
              "  /* fitted */\n",
              "  background-color: var(--sklearn-color-fitted-level-2);\n",
              "}\n",
              "\n",
              "#sk-container-id-2 div.sk-label label.sk-toggleable__label,\n",
              "#sk-container-id-2 div.sk-label label {\n",
              "  /* The background is the default theme color */\n",
              "  color: var(--sklearn-color-text-on-default-background);\n",
              "}\n",
              "\n",
              "/* On hover, darken the color of the background */\n",
              "#sk-container-id-2 div.sk-label:hover label.sk-toggleable__label {\n",
              "  color: var(--sklearn-color-text);\n",
              "  background-color: var(--sklearn-color-unfitted-level-2);\n",
              "}\n",
              "\n",
              "/* Label box, darken color on hover, fitted */\n",
              "#sk-container-id-2 div.sk-label.fitted:hover label.sk-toggleable__label.fitted {\n",
              "  color: var(--sklearn-color-text);\n",
              "  background-color: var(--sklearn-color-fitted-level-2);\n",
              "}\n",
              "\n",
              "/* Estimator label */\n",
              "\n",
              "#sk-container-id-2 div.sk-label label {\n",
              "  font-family: monospace;\n",
              "  font-weight: bold;\n",
              "  display: inline-block;\n",
              "  line-height: 1.2em;\n",
              "}\n",
              "\n",
              "#sk-container-id-2 div.sk-label-container {\n",
              "  text-align: center;\n",
              "}\n",
              "\n",
              "/* Estimator-specific */\n",
              "#sk-container-id-2 div.sk-estimator {\n",
              "  font-family: monospace;\n",
              "  border: 1px dotted var(--sklearn-color-border-box);\n",
              "  border-radius: 0.25em;\n",
              "  box-sizing: border-box;\n",
              "  margin-bottom: 0.5em;\n",
              "  /* unfitted */\n",
              "  background-color: var(--sklearn-color-unfitted-level-0);\n",
              "}\n",
              "\n",
              "#sk-container-id-2 div.sk-estimator.fitted {\n",
              "  /* fitted */\n",
              "  background-color: var(--sklearn-color-fitted-level-0);\n",
              "}\n",
              "\n",
              "/* on hover */\n",
              "#sk-container-id-2 div.sk-estimator:hover {\n",
              "  /* unfitted */\n",
              "  background-color: var(--sklearn-color-unfitted-level-2);\n",
              "}\n",
              "\n",
              "#sk-container-id-2 div.sk-estimator.fitted:hover {\n",
              "  /* fitted */\n",
              "  background-color: var(--sklearn-color-fitted-level-2);\n",
              "}\n",
              "\n",
              "/* Specification for estimator info (e.g. \"i\" and \"?\") */\n",
              "\n",
              "/* Common style for \"i\" and \"?\" */\n",
              "\n",
              ".sk-estimator-doc-link,\n",
              "a:link.sk-estimator-doc-link,\n",
              "a:visited.sk-estimator-doc-link {\n",
              "  float: right;\n",
              "  font-size: smaller;\n",
              "  line-height: 1em;\n",
              "  font-family: monospace;\n",
              "  background-color: var(--sklearn-color-background);\n",
              "  border-radius: 1em;\n",
              "  height: 1em;\n",
              "  width: 1em;\n",
              "  text-decoration: none !important;\n",
              "  margin-left: 1ex;\n",
              "  /* unfitted */\n",
              "  border: var(--sklearn-color-unfitted-level-1) 1pt solid;\n",
              "  color: var(--sklearn-color-unfitted-level-1);\n",
              "}\n",
              "\n",
              ".sk-estimator-doc-link.fitted,\n",
              "a:link.sk-estimator-doc-link.fitted,\n",
              "a:visited.sk-estimator-doc-link.fitted {\n",
              "  /* fitted */\n",
              "  border: var(--sklearn-color-fitted-level-1) 1pt solid;\n",
              "  color: var(--sklearn-color-fitted-level-1);\n",
              "}\n",
              "\n",
              "/* On hover */\n",
              "div.sk-estimator:hover .sk-estimator-doc-link:hover,\n",
              ".sk-estimator-doc-link:hover,\n",
              "div.sk-label-container:hover .sk-estimator-doc-link:hover,\n",
              ".sk-estimator-doc-link:hover {\n",
              "  /* unfitted */\n",
              "  background-color: var(--sklearn-color-unfitted-level-3);\n",
              "  color: var(--sklearn-color-background);\n",
              "  text-decoration: none;\n",
              "}\n",
              "\n",
              "div.sk-estimator.fitted:hover .sk-estimator-doc-link.fitted:hover,\n",
              ".sk-estimator-doc-link.fitted:hover,\n",
              "div.sk-label-container:hover .sk-estimator-doc-link.fitted:hover,\n",
              ".sk-estimator-doc-link.fitted:hover {\n",
              "  /* fitted */\n",
              "  background-color: var(--sklearn-color-fitted-level-3);\n",
              "  color: var(--sklearn-color-background);\n",
              "  text-decoration: none;\n",
              "}\n",
              "\n",
              "/* Span, style for the box shown on hovering the info icon */\n",
              ".sk-estimator-doc-link span {\n",
              "  display: none;\n",
              "  z-index: 9999;\n",
              "  position: relative;\n",
              "  font-weight: normal;\n",
              "  right: .2ex;\n",
              "  padding: .5ex;\n",
              "  margin: .5ex;\n",
              "  width: min-content;\n",
              "  min-width: 20ex;\n",
              "  max-width: 50ex;\n",
              "  color: var(--sklearn-color-text);\n",
              "  box-shadow: 2pt 2pt 4pt #999;\n",
              "  /* unfitted */\n",
              "  background: var(--sklearn-color-unfitted-level-0);\n",
              "  border: .5pt solid var(--sklearn-color-unfitted-level-3);\n",
              "}\n",
              "\n",
              ".sk-estimator-doc-link.fitted span {\n",
              "  /* fitted */\n",
              "  background: var(--sklearn-color-fitted-level-0);\n",
              "  border: var(--sklearn-color-fitted-level-3);\n",
              "}\n",
              "\n",
              ".sk-estimator-doc-link:hover span {\n",
              "  display: block;\n",
              "}\n",
              "\n",
              "/* \"?\"-specific style due to the `<a>` HTML tag */\n",
              "\n",
              "#sk-container-id-2 a.estimator_doc_link {\n",
              "  float: right;\n",
              "  font-size: 1rem;\n",
              "  line-height: 1em;\n",
              "  font-family: monospace;\n",
              "  background-color: var(--sklearn-color-background);\n",
              "  border-radius: 1rem;\n",
              "  height: 1rem;\n",
              "  width: 1rem;\n",
              "  text-decoration: none;\n",
              "  /* unfitted */\n",
              "  color: var(--sklearn-color-unfitted-level-1);\n",
              "  border: var(--sklearn-color-unfitted-level-1) 1pt solid;\n",
              "}\n",
              "\n",
              "#sk-container-id-2 a.estimator_doc_link.fitted {\n",
              "  /* fitted */\n",
              "  border: var(--sklearn-color-fitted-level-1) 1pt solid;\n",
              "  color: var(--sklearn-color-fitted-level-1);\n",
              "}\n",
              "\n",
              "/* On hover */\n",
              "#sk-container-id-2 a.estimator_doc_link:hover {\n",
              "  /* unfitted */\n",
              "  background-color: var(--sklearn-color-unfitted-level-3);\n",
              "  color: var(--sklearn-color-background);\n",
              "  text-decoration: none;\n",
              "}\n",
              "\n",
              "#sk-container-id-2 a.estimator_doc_link.fitted:hover {\n",
              "  /* fitted */\n",
              "  background-color: var(--sklearn-color-fitted-level-3);\n",
              "}\n",
              "</style><div id=\"sk-container-id-2\" class=\"sk-top-container\"><div class=\"sk-text-repr-fallback\"><pre>MultinomialNB()</pre><b>In a Jupyter environment, please rerun this cell to show the HTML representation or trust the notebook. <br />On GitHub, the HTML representation is unable to render, please try loading this page with nbviewer.org.</b></div><div class=\"sk-container\" hidden><div class=\"sk-item\"><div class=\"sk-estimator fitted sk-toggleable\"><input class=\"sk-toggleable__control sk-hidden--visually\" id=\"sk-estimator-id-2\" type=\"checkbox\" checked><label for=\"sk-estimator-id-2\" class=\"sk-toggleable__label fitted sk-toggleable__label-arrow fitted\">&nbsp;&nbsp;MultinomialNB<a class=\"sk-estimator-doc-link fitted\" rel=\"noreferrer\" target=\"_blank\" href=\"https://scikit-learn.org/1.5/modules/generated/sklearn.naive_bayes.MultinomialNB.html\">?<span>Documentation for MultinomialNB</span></a><span class=\"sk-estimator-doc-link fitted\">i<span>Fitted</span></span></label><div class=\"sk-toggleable__content fitted\"><pre>MultinomialNB()</pre></div> </div></div></div></div>"
            ]
          },
          "metadata": {},
          "execution_count": 39
        }
      ]
    },
    {
      "cell_type": "markdown",
      "source": [
        "10. Predict sentiments for the test data."
      ],
      "metadata": {
        "id": "pnnEA4z8JoZI"
      }
    },
    {
      "cell_type": "code",
      "source": [
        "# Predict sentiments\n",
        "y_pred = nb.predict(X_test)"
      ],
      "metadata": {
        "id": "yVF34XSKJr7Q"
      },
      "execution_count": null,
      "outputs": []
    },
    {
      "cell_type": "markdown",
      "source": [
        "11. Evaluate the model's performance using appropriate metrics (e.g., accuracy, F1-score)"
      ],
      "metadata": {
        "id": "Mskob2mZJssA"
      }
    },
    {
      "cell_type": "code",
      "source": [
        "# Evaluate model\n",
        "accuracy = accuracy_score(y_test, y_pred)\n",
        "f1 = f1_score(y_test, y_pred)\n",
        "print(f\"Accuracy: {accuracy * 100:.2f}%\")\n",
        "print(f\"F1 Score: {f1:.2f}\")"
      ],
      "metadata": {
        "colab": {
          "base_uri": "https://localhost:8080/"
        },
        "id": "ab3t9MVaJxbj",
        "outputId": "e0c9f28b-98dc-4f5f-ef97-74682dd0dcd9"
      },
      "execution_count": null,
      "outputs": [
        {
          "output_type": "stream",
          "name": "stdout",
          "text": [
            "Accuracy: 35.00%\n",
            "F1 Score: 0.38\n"
          ]
        }
      ]
    },
    {
      "cell_type": "markdown",
      "source": [
        "12. Model Interpretation"
      ],
      "metadata": {
        "id": "kgYk2V_GKFMB"
      }
    },
    {
      "cell_type": "code",
      "source": [
        "incorrect_indices = np.where(y_pred != y_test)[0]  # Gets the index positions where predictions are incorrect\n",
        "\n",
        "# Retrieve rows from the original DataFrame using these indices\n",
        "incorrect_predictions = df.iloc[incorrect_indices]\n",
        "\n",
        "print(incorrect_predictions)"
      ],
      "metadata": {
        "colab": {
          "base_uri": "https://localhost:8080/"
        },
        "id": "tnti63VsKLMz",
        "outputId": "49c86d84-3844-48a1-9e88-3901df1e6f25"
      },
      "execution_count": null,
      "outputs": [
        {
          "output_type": "stream",
          "name": "stdout",
          "text": [
            "             ReviewText  Sentiment\n",
            "0   Terrible experience          1\n",
            "2     Works as expected          1\n",
            "4        Will buy again          1\n",
            "5       Did not like it          0\n",
            "7     Works as expected          1\n",
            "8     Works as expected          1\n",
            "9        Will buy again          1\n",
            "10  Terrible experience          1\n",
            "13       Will buy again          1\n",
            "14      Did not like it          0\n",
            "15  Terrible experience          0\n",
            "17         Disappointed          0\n",
            "19  Terrible experience          0\n"
          ]
        }
      ]
    },
    {
      "cell_type": "markdown",
      "source": [
        "13. Discuss the performance of the Naive Bayes classifier."
      ],
      "metadata": {
        "id": "gq8BAcWBKMEJ"
      }
    },
    {
      "cell_type": "code",
      "source": [
        "from sklearn.naive_bayes import GaussianNB\n",
        "from sklearn.metrics import accuracy_score, precision_score, recall_score, f1_score, confusion_matrix, classification_report\n",
        "\n",
        "# Convert sparse matrices to dense arrays\n",
        "X_train_dense = X_train.toarray() if hasattr(X_train, 'toarray') else X_train\n",
        "X_test_dense = X_test.toarray() if hasattr(X_test, 'toarray') else X_test\n",
        "\n",
        "# Initialize and train the Naive Bayes model\n",
        "nb_model = GaussianNB()\n",
        "nb_model.fit(X_train_dense, y_train)\n",
        "\n",
        "# Predict on the test set\n",
        "y_pred = nb_model.predict(X_test_dense)\n",
        "\n",
        "# Evaluate performance metrics\n",
        "accuracy = accuracy_score(y_test, y_pred)\n",
        "precision = precision_score(y_test, y_pred, average='weighted')\n",
        "recall = recall_score(y_test, y_pred, average='weighted')\n",
        "f1 = f1_score(y_test, y_pred, average='weighted')\n",
        "conf_matrix = confusion_matrix(y_test, y_pred)\n",
        "\n",
        "# Print results\n",
        "print(\"Naive Bayes Performance Metrics:\")\n",
        "print(f\"Accuracy: {accuracy:.4f}\")\n",
        "print(f\"Precision: {precision:.4f}\")\n",
        "print(f\"Recall: {recall:.4f}\")\n",
        "print(f\"F1 Score: {f1:.4f}\")\n",
        "print(\"\\nConfusion Matrix:\")\n",
        "print(conf_matrix)\n",
        "\n",
        "# Detailed classification report\n",
        "print(\"\\nClassification Report:\")\n",
        "print(classification_report(y_test, y_pred))\n"
      ],
      "metadata": {
        "colab": {
          "base_uri": "https://localhost:8080/"
        },
        "id": "rrDcBQZlKQ1V",
        "outputId": "a0307565-6f94-4657-d062-14fa32a1c9e3"
      },
      "execution_count": null,
      "outputs": [
        {
          "output_type": "stream",
          "name": "stdout",
          "text": [
            "Naive Bayes Performance Metrics:\n",
            "Accuracy: 0.3500\n",
            "Precision: 0.5536\n",
            "Recall: 0.3500\n",
            "F1 Score: 0.3647\n",
            "\n",
            "Confusion Matrix:\n",
            "[[ 3  2]\n",
            " [11  4]]\n",
            "\n",
            "Classification Report:\n",
            "              precision    recall  f1-score   support\n",
            "\n",
            "           0       0.21      0.60      0.32         5\n",
            "           1       0.67      0.27      0.38        15\n",
            "\n",
            "    accuracy                           0.35        20\n",
            "   macro avg       0.44      0.43      0.35        20\n",
            "weighted avg       0.55      0.35      0.36        20\n",
            "\n"
          ]
        }
      ]
    },
    {
      "cell_type": "markdown",
      "source": [
        "14. Analyze a few instances where the model made incorrect predictions. What could be the potential reasons?"
      ],
      "metadata": {
        "id": "t8qwNI52KRSK"
      }
    },
    {
      "cell_type": "code",
      "source": [
        "# Identify incorrect predictions\n",
        "incorrect_indices = (y_test != y_pred)\n",
        "incorrect_predictions = X_test_dense[incorrect_indices]\n",
        "incorrect_labels = y_test[incorrect_indices]\n",
        "predicted_labels = y_pred[incorrect_indices]\n",
        "\n",
        "# Display a few incorrect predictions for analysis\n",
        "for i in range(min(5, len(incorrect_labels))):  # Display up to 5 examples\n",
        "    print(f\"Instance {i + 1}:\")\n",
        "    print(f\"Features: {incorrect_predictions[i]}\")\n",
        "    print(f\"True Label: {incorrect_labels.iloc[i]}\")\n",
        "    print(f\"Predicted Label: {predicted_labels[i]}\\n\")\n"
      ],
      "metadata": {
        "colab": {
          "base_uri": "https://localhost:8080/"
        },
        "id": "-0RwMl-1KVDY",
        "outputId": "122a0c92-4639-4da0-859c-39ebbe5d326c"
      },
      "execution_count": null,
      "outputs": [
        {
          "output_type": "stream",
          "name": "stdout",
          "text": [
            "Instance 1:\n",
            "Features: [0 0 0 0 1 0 0 0 0 0 0 0 0 0 0]\n",
            "True Label: 0\n",
            "Predicted Label: 1\n",
            "\n",
            "Instance 2:\n",
            "Features: [0 0 0 0 1 0 0 0 0 0 0 0 0 0 0]\n",
            "True Label: 0\n",
            "Predicted Label: 1\n",
            "\n",
            "Instance 3:\n",
            "Features: [1 0 1 0 0 0 0 0 0 0 0 0 0 1 0]\n",
            "True Label: 1\n",
            "Predicted Label: 0\n",
            "\n",
            "Instance 4:\n",
            "Features: [0 0 0 0 0 0 1 0 0 0 0 0 1 0 0]\n",
            "True Label: 1\n",
            "Predicted Label: 0\n",
            "\n",
            "Instance 5:\n",
            "Features: [0 0 0 1 0 0 0 0 1 1 1 0 0 0 0]\n",
            "True Label: 1\n",
            "Predicted Label: 0\n",
            "\n"
          ]
        }
      ]
    },
    {
      "cell_type": "code",
      "source": [],
      "metadata": {
        "id": "oEV4DPB4Kg2Z"
      },
      "execution_count": null,
      "outputs": []
    },
    {
      "cell_type": "markdown",
      "source": [
        "# 5. Assignment: Predicting Customer Churn using Logistic Regression"
      ],
      "metadata": {
        "id": "BYtFqaLNNEbG"
      }
    },
    {
      "cell_type": "markdown",
      "source": [
        "1. Data Exploration"
      ],
      "metadata": {
        "id": "YtW7_S1hNwJH"
      }
    },
    {
      "cell_type": "code",
      "source": [
        "import pandas as pd\n",
        "import numpy as np\n",
        "# Mock dataset\n",
        "np.random.seed(42)\n",
        "data = {\n",
        "'CustomerID': np.arange(1, 201),\n",
        "'Age': np.random.randint(20, 70, 200),\n",
        "'MonthlyCharge': np.random.uniform(20.0, 200.0, 200).round(2),\n",
        "'Tenure': np.random.randint(1, 72, 200), # in months\n",
        "'HasSupport': np.random.choice([0, 1], 200),\n",
        "'IsActiveMember': np.random.choice([0, 1], 200),\n",
        "'Churn': np.random.choice([0, 1], 200)\n",
        "}"
      ],
      "metadata": {
        "id": "giElDZDyNM0i"
      },
      "execution_count": null,
      "outputs": []
    },
    {
      "cell_type": "markdown",
      "source": [
        "2. Load the dataset into a pandas DataFrame."
      ],
      "metadata": {
        "id": "EwbGHWoaNz9Q"
      }
    },
    {
      "cell_type": "code",
      "source": [
        "df = pd.DataFrame(data)"
      ],
      "metadata": {
        "id": "B6-MHmUoN0k0"
      },
      "execution_count": null,
      "outputs": []
    },
    {
      "cell_type": "markdown",
      "source": [
        "3. Explore the distribution of the target variable (Churn)."
      ],
      "metadata": {
        "id": "6tgwgDAoN07w"
      }
    },
    {
      "cell_type": "code",
      "source": [
        "# Display distribution of Churn\n",
        "print(df['Churn'].value_counts(normalize=True))"
      ],
      "metadata": {
        "colab": {
          "base_uri": "https://localhost:8080/"
        },
        "id": "nfHkhCOeN3kq",
        "outputId": "5cea7aa4-b932-484b-a55b-6302439c4ddb"
      },
      "execution_count": null,
      "outputs": [
        {
          "output_type": "stream",
          "name": "stdout",
          "text": [
            "Churn\n",
            "0    0.51\n",
            "1    0.49\n",
            "Name: proportion, dtype: float64\n"
          ]
        }
      ]
    },
    {
      "cell_type": "markdown",
      "source": [
        "4. Visualize different attributes and their relationships with the target variable."
      ],
      "metadata": {
        "id": "jm-uuLpuN39h"
      }
    },
    {
      "cell_type": "code",
      "source": [
        "# Visualize relationship of different attributes with Churn\n",
        "import matplotlib.pyplot as plt\n",
        "import seaborn as sns\n",
        "# sns.countplot(x='HasSupport', hue='Churn', data=df)\n",
        "# plt.show()\n",
        "# sns.countplot(x='IsActiveMember', hue='Churn', data=df)\n",
        "# plt.show()"
      ],
      "metadata": {
        "id": "_O2PrNJeN7XO"
      },
      "execution_count": null,
      "outputs": []
    },
    {
      "cell_type": "code",
      "source": [
        "# Create a figure and two subplots\n",
        "fig, axes = plt.subplots(1, 2, figsize=(10, 4))  # 1 row, 2 columns\n",
        "\n",
        "# Plot the first countplot on the first subplot\n",
        "sns.countplot(x='HasSupport', hue='Churn', data=df, ax=axes[0])\n",
        "axes[0].set_title('Churn Distribution by HasSupport')\n",
        "\n",
        "# Plot the second countplot on the second subplot\n",
        "sns.countplot(x='IsActiveMember', hue='Churn', data=df, ax=axes[1])\n",
        "axes[1].set_title('Churn Distribution by IsActiveMember')\n",
        "\n",
        "# Adjust spacing between subplots\n",
        "plt.tight_layout()\n",
        "\n",
        "# Show the plot\n",
        "plt.show()"
      ],
      "metadata": {
        "colab": {
          "base_uri": "https://localhost:8080/",
          "height": 407
        },
        "id": "XCecHhPgOlPq",
        "outputId": "c201363e-fce3-4e3f-cbcd-218d2ceff56d"
      },
      "execution_count": null,
      "outputs": [
        {
          "output_type": "display_data",
          "data": {
            "text/plain": [
              "<Figure size 1000x400 with 2 Axes>"
            ],
            "image/png": "[encoded data removed]"
          },
          "metadata": {}
        }
      ]
    },
    {
      "cell_type": "markdown",
      "source": [
        "5. Data Preprocessing"
      ],
      "metadata": {
        "id": "0k_PNswcOko4"
      }
    },
    {
      "cell_type": "code",
      "source": [
        "from sklearn.preprocessing import StandardScaler"
      ],
      "metadata": {
        "id": "zXkSmC3NOuaH"
      },
      "execution_count": null,
      "outputs": []
    },
    {
      "cell_type": "markdown",
      "source": [
        "6. Handle any missing values."
      ],
      "metadata": {
        "id": "Ex77R2MMOwzg"
      }
    },
    {
      "cell_type": "code",
      "source": [
        "# Check for missing values\n",
        "missing_values = df.isnull().sum()\n",
        "print(\"Missing Values in Each Column:\")\n",
        "print(missing_values)\n",
        "\n",
        "# Handle missing values\n",
        "# For numerical columns, we can fill with mean or median\n",
        "for column in df.select_dtypes(include=[np.number]).columns:\n",
        "    if df[column].isnull().any():  # Check if there are missing values\n",
        "        # Option 1: Fill with mean\n",
        "        df[column].fillna(df[column].mean(), inplace=True)\n",
        "        # Option 2: Alternatively, you can use median instead of mean\n",
        "        # df[column].fillna(df[column].median(), inplace=True)\n",
        "\n",
        "# For categorical columns, fill with mode\n",
        "for column in df.select_dtypes(include=['category', 'object']).columns:\n",
        "    if df[column].isnull().any():\n",
        "        df[column].fillna(df[column].mode()[0], inplace=True)\n",
        "\n",
        "# Verify that there are no missing values left\n",
        "print(\"\\nMissing Values After Handling:\")\n",
        "print(df.isnull().sum())"
      ],
      "metadata": {
        "colab": {
          "base_uri": "https://localhost:8080/"
        },
        "id": "_Uw_L4x7Oxac",
        "outputId": "b3eb8adc-cf2a-4aaa-8f7f-ffbe8a2abab3"
      },
      "execution_count": null,
      "outputs": [
        {
          "output_type": "stream",
          "name": "stdout",
          "text": [
            "Missing Values in Each Column:\n",
            "CustomerID        0\n",
            "Age               0\n",
            "MonthlyCharge     0\n",
            "Tenure            0\n",
            "HasSupport        0\n",
            "IsActiveMember    0\n",
            "Churn             0\n",
            "dtype: int64\n",
            "\n",
            "Missing Values After Handling:\n",
            "CustomerID        0\n",
            "Age               0\n",
            "MonthlyCharge     0\n",
            "Tenure            0\n",
            "HasSupport        0\n",
            "IsActiveMember    0\n",
            "Churn             0\n",
            "dtype: int64\n"
          ]
        }
      ]
    },
    {
      "cell_type": "markdown",
      "source": [
        "7. Normalize/Standardize the feature variables if required."
      ],
      "metadata": {
        "id": "68armqRoOx_I"
      }
    },
    {
      "cell_type": "code",
      "source": [
        "features = ['Age', 'MonthlyCharge', 'Tenure']\n",
        "scaler = StandardScaler()\n",
        "df[features] = scaler.fit_transform(df[features])"
      ],
      "metadata": {
        "id": "iG_gYKTTO48x"
      },
      "execution_count": null,
      "outputs": []
    },
    {
      "cell_type": "code",
      "source": [
        "print(df[features].head())"
      ],
      "metadata": {
        "colab": {
          "base_uri": "https://localhost:8080/"
        },
        "id": "2pzEhKBzQX72",
        "outputId": "fa555407-5c10-450c-a750-43290b37a8f3"
      },
      "execution_count": null,
      "outputs": [
        {
          "output_type": "stream",
          "name": "stdout",
          "text": [
            "        Age  MonthlyCharge    Tenure\n",
            "0  0.968008       1.504341  1.716326\n",
            "1  0.263490      -0.639099  0.616758\n",
            "2 -0.722836       0.037331  1.366463\n",
            "3  1.249815       0.674560  1.716326\n",
            "4 -1.215998      -0.499393 -0.932634\n"
          ]
        }
      ]
    },
    {
      "cell_type": "markdown",
      "source": [
        "8. Model Implementation"
      ],
      "metadata": {
        "id": "dfpGCJUsQXcF"
      }
    },
    {
      "cell_type": "code",
      "source": [
        "from sklearn.model_selection import train_test_split\n",
        "from sklearn.linear_model import LogisticRegression\n",
        "from sklearn.metrics import accuracy_score, precision_score, recall_score"
      ],
      "metadata": {
        "id": "iYgXafXMQfs7"
      },
      "execution_count": null,
      "outputs": []
    },
    {
      "cell_type": "markdown",
      "source": [
        "9. Split the dataset into training and testing sets."
      ],
      "metadata": {
        "id": "3DLMHw4UO5aP"
      }
    },
    {
      "cell_type": "code",
      "source": [
        "# Split data\n",
        "X = df.drop(['CustomerID', 'Churn'], axis=1)\n",
        "y = df['Churn']\n",
        "X_train, X_test, y_train, y_test = train_test_split(X, y,test_size=0.2, random_state=42)"
      ],
      "metadata": {
        "id": "z03OpEw_Qi3v"
      },
      "execution_count": null,
      "outputs": []
    },
    {
      "cell_type": "markdown",
      "source": [
        "10. Implement a logistic regression model."
      ],
      "metadata": {
        "id": "FFeZNUYsQjRr"
      }
    },
    {
      "cell_type": "code",
      "source": [
        "# Implement logistic regression\n",
        "lr = LogisticRegression()\n",
        "lr.fit(X_train, y_train)"
      ],
      "metadata": {
        "colab": {
          "base_uri": "https://localhost:8080/",
          "height": 80
        },
        "id": "LOqkbP3jQnPJ",
        "outputId": "55580aee-ab0e-4727-d454-7aa16f78f0bc"
      },
      "execution_count": null,
      "outputs": [
        {
          "output_type": "execute_result",
          "data": {
            "text/plain": [
              "LogisticRegression()"
            ],
            "text/html": [
              "<style>#sk-container-id-3 {\n",
              "  /* Definition of color scheme common for light and dark mode */\n",
              "  --sklearn-color-text: black;\n",
              "  --sklearn-color-line: gray;\n",
              "  /* Definition of color scheme for unfitted estimators */\n",
              "  --sklearn-color-unfitted-level-0: #fff5e6;\n",
              "  --sklearn-color-unfitted-level-1: #f6e4d2;\n",
              "  --sklearn-color-unfitted-level-2: #ffe0b3;\n",
              "  --sklearn-color-unfitted-level-3: chocolate;\n",
              "  /* Definition of color scheme for fitted estimators */\n",
              "  --sklearn-color-fitted-level-0: #f0f8ff;\n",
              "  --sklearn-color-fitted-level-1: #d4ebff;\n",
              "  --sklearn-color-fitted-level-2: #b3dbfd;\n",
              "  --sklearn-color-fitted-level-3: cornflowerblue;\n",
              "\n",
              "  /* Specific color for light theme */\n",
              "  --sklearn-color-text-on-default-background: var(--sg-text-color, var(--theme-code-foreground, var(--jp-content-font-color1, black)));\n",
              "  --sklearn-color-background: var(--sg-background-color, var(--theme-background, var(--jp-layout-color0, white)));\n",
              "  --sklearn-color-border-box: var(--sg-text-color, var(--theme-code-foreground, var(--jp-content-font-color1, black)));\n",
              "  --sklearn-color-icon: #696969;\n",
              "\n",
              "  @media (prefers-color-scheme: dark) {\n",
              "    /* Redefinition of color scheme for dark theme */\n",
              "    --sklearn-color-text-on-default-background: var(--sg-text-color, var(--theme-code-foreground, var(--jp-content-font-color1, white)));\n",
              "    --sklearn-color-background: var(--sg-background-color, var(--theme-background, var(--jp-layout-color0, #111)));\n",
              "    --sklearn-color-border-box: var(--sg-text-color, var(--theme-code-foreground, var(--jp-content-font-color1, white)));\n",
              "    --sklearn-color-icon: #878787;\n",
              "  }\n",
              "}\n",
              "\n",
              "#sk-container-id-3 {\n",
              "  color: var(--sklearn-color-text);\n",
              "}\n",
              "\n",
              "#sk-container-id-3 pre {\n",
              "  padding: 0;\n",
              "}\n",
              "\n",
              "#sk-container-id-3 input.sk-hidden--visually {\n",
              "  border: 0;\n",
              "  clip: rect(1px 1px 1px 1px);\n",
              "  clip: rect(1px, 1px, 1px, 1px);\n",
              "  height: 1px;\n",
              "  margin: -1px;\n",
              "  overflow: hidden;\n",
              "  padding: 0;\n",
              "  position: absolute;\n",
              "  width: 1px;\n",
              "}\n",
              "\n",
              "#sk-container-id-3 div.sk-dashed-wrapped {\n",
              "  border: 1px dashed var(--sklearn-color-line);\n",
              "  margin: 0 0.4em 0.5em 0.4em;\n",
              "  box-sizing: border-box;\n",
              "  padding-bottom: 0.4em;\n",
              "  background-color: var(--sklearn-color-background);\n",
              "}\n",
              "\n",
              "#sk-container-id-3 div.sk-container {\n",
              "  /* jupyter's `normalize.less` sets `[hidden] { display: none; }`\n",
              "     but bootstrap.min.css set `[hidden] { display: none !important; }`\n",
              "     so we also need the `!important` here to be able to override the\n",
              "     default hidden behavior on the sphinx rendered scikit-learn.org.\n",
              "     See: https://github.com/scikit-learn/scikit-learn/issues/21755 */\n",
              "  display: inline-block !important;\n",
              "  position: relative;\n",
              "}\n",
              "\n",
              "#sk-container-id-3 div.sk-text-repr-fallback {\n",
              "  display: none;\n",
              "}\n",
              "\n",
              "div.sk-parallel-item,\n",
              "div.sk-serial,\n",
              "div.sk-item {\n",
              "  /* draw centered vertical line to link estimators */\n",
              "  background-image: linear-gradient(var(--sklearn-color-text-on-default-background), var(--sklearn-color-text-on-default-background));\n",
              "  background-size: 2px 100%;\n",
              "  background-repeat: no-repeat;\n",
              "  background-position: center center;\n",
              "}\n",
              "\n",
              "/* Parallel-specific style estimator block */\n",
              "\n",
              "#sk-container-id-3 div.sk-parallel-item::after {\n",
              "  content: \"\";\n",
              "  width: 100%;\n",
              "  border-bottom: 2px solid var(--sklearn-color-text-on-default-background);\n",
              "  flex-grow: 1;\n",
              "}\n",
              "\n",
              "#sk-container-id-3 div.sk-parallel {\n",
              "  display: flex;\n",
              "  align-items: stretch;\n",
              "  justify-content: center;\n",
              "  background-color: var(--sklearn-color-background);\n",
              "  position: relative;\n",
              "}\n",
              "\n",
              "#sk-container-id-3 div.sk-parallel-item {\n",
              "  display: flex;\n",
              "  flex-direction: column;\n",
              "}\n",
              "\n",
              "#sk-container-id-3 div.sk-parallel-item:first-child::after {\n",
              "  align-self: flex-end;\n",
              "  width: 50%;\n",
              "}\n",
              "\n",
              "#sk-container-id-3 div.sk-parallel-item:last-child::after {\n",
              "  align-self: flex-start;\n",
              "  width: 50%;\n",
              "}\n",
              "\n",
              "#sk-container-id-3 div.sk-parallel-item:only-child::after {\n",
              "  width: 0;\n",
              "}\n",
              "\n",
              "/* Serial-specific style estimator block */\n",
              "\n",
              "#sk-container-id-3 div.sk-serial {\n",
              "  display: flex;\n",
              "  flex-direction: column;\n",
              "  align-items: center;\n",
              "  background-color: var(--sklearn-color-background);\n",
              "  padding-right: 1em;\n",
              "  padding-left: 1em;\n",
              "}\n",
              "\n",
              "\n",
              "/* Toggleable style: style used for estimator/Pipeline/ColumnTransformer box that is\n",
              "clickable and can be expanded/collapsed.\n",
              "- Pipeline and ColumnTransformer use this feature and define the default style\n",
              "- Estimators will overwrite some part of the style using the `sk-estimator` class\n",
              "*/\n",
              "\n",
              "/* Pipeline and ColumnTransformer style (default) */\n",
              "\n",
              "#sk-container-id-3 div.sk-toggleable {\n",
              "  /* Default theme specific background. It is overwritten whether we have a\n",
              "  specific estimator or a Pipeline/ColumnTransformer */\n",
              "  background-color: var(--sklearn-color-background);\n",
              "}\n",
              "\n",
              "/* Toggleable label */\n",
              "#sk-container-id-3 label.sk-toggleable__label {\n",
              "  cursor: pointer;\n",
              "  display: block;\n",
              "  width: 100%;\n",
              "  margin-bottom: 0;\n",
              "  padding: 0.5em;\n",
              "  box-sizing: border-box;\n",
              "  text-align: center;\n",
              "}\n",
              "\n",
              "#sk-container-id-3 label.sk-toggleable__label-arrow:before {\n",
              "  /* Arrow on the left of the label */\n",
              "  content: \"▸\";\n",
              "  float: left;\n",
              "  margin-right: 0.25em;\n",
              "  color: var(--sklearn-color-icon);\n",
              "}\n",
              "\n",
              "#sk-container-id-3 label.sk-toggleable__label-arrow:hover:before {\n",
              "  color: var(--sklearn-color-text);\n",
              "}\n",
              "\n",
              "/* Toggleable content - dropdown */\n",
              "\n",
              "#sk-container-id-3 div.sk-toggleable__content {\n",
              "  max-height: 0;\n",
              "  max-width: 0;\n",
              "  overflow: hidden;\n",
              "  text-align: left;\n",
              "  /* unfitted */\n",
              "  background-color: var(--sklearn-color-unfitted-level-0);\n",
              "}\n",
              "\n",
              "#sk-container-id-3 div.sk-toggleable__content.fitted {\n",
              "  /* fitted */\n",
              "  background-color: var(--sklearn-color-fitted-level-0);\n",
              "}\n",
              "\n",
              "#sk-container-id-3 div.sk-toggleable__content pre {\n",
              "  margin: 0.2em;\n",
              "  border-radius: 0.25em;\n",
              "  color: var(--sklearn-color-text);\n",
              "  /* unfitted */\n",
              "  background-color: var(--sklearn-color-unfitted-level-0);\n",
              "}\n",
              "\n",
              "#sk-container-id-3 div.sk-toggleable__content.fitted pre {\n",
              "  /* unfitted */\n",
              "  background-color: var(--sklearn-color-fitted-level-0);\n",
              "}\n",
              "\n",
              "#sk-container-id-3 input.sk-toggleable__control:checked~div.sk-toggleable__content {\n",
              "  /* Expand drop-down */\n",
              "  max-height: 200px;\n",
              "  max-width: 100%;\n",
              "  overflow: auto;\n",
              "}\n",
              "\n",
              "#sk-container-id-3 input.sk-toggleable__control:checked~label.sk-toggleable__label-arrow:before {\n",
              "  content: \"▾\";\n",
              "}\n",
              "\n",
              "/* Pipeline/ColumnTransformer-specific style */\n",
              "\n",
              "#sk-container-id-3 div.sk-label input.sk-toggleable__control:checked~label.sk-toggleable__label {\n",
              "  color: var(--sklearn-color-text);\n",
              "  background-color: var(--sklearn-color-unfitted-level-2);\n",
              "}\n",
              "\n",
              "#sk-container-id-3 div.sk-label.fitted input.sk-toggleable__control:checked~label.sk-toggleable__label {\n",
              "  background-color: var(--sklearn-color-fitted-level-2);\n",
              "}\n",
              "\n",
              "/* Estimator-specific style */\n",
              "\n",
              "/* Colorize estimator box */\n",
              "#sk-container-id-3 div.sk-estimator input.sk-toggleable__control:checked~label.sk-toggleable__label {\n",
              "  /* unfitted */\n",
              "  background-color: var(--sklearn-color-unfitted-level-2);\n",
              "}\n",
              "\n",
              "#sk-container-id-3 div.sk-estimator.fitted input.sk-toggleable__control:checked~label.sk-toggleable__label {\n",
              "  /* fitted */\n",
              "  background-color: var(--sklearn-color-fitted-level-2);\n",
              "}\n",
              "\n",
              "#sk-container-id-3 div.sk-label label.sk-toggleable__label,\n",
              "#sk-container-id-3 div.sk-label label {\n",
              "  /* The background is the default theme color */\n",
              "  color: var(--sklearn-color-text-on-default-background);\n",
              "}\n",
              "\n",
              "/* On hover, darken the color of the background */\n",
              "#sk-container-id-3 div.sk-label:hover label.sk-toggleable__label {\n",
              "  color: var(--sklearn-color-text);\n",
              "  background-color: var(--sklearn-color-unfitted-level-2);\n",
              "}\n",
              "\n",
              "/* Label box, darken color on hover, fitted */\n",
              "#sk-container-id-3 div.sk-label.fitted:hover label.sk-toggleable__label.fitted {\n",
              "  color: var(--sklearn-color-text);\n",
              "  background-color: var(--sklearn-color-fitted-level-2);\n",
              "}\n",
              "\n",
              "/* Estimator label */\n",
              "\n",
              "#sk-container-id-3 div.sk-label label {\n",
              "  font-family: monospace;\n",
              "  font-weight: bold;\n",
              "  display: inline-block;\n",
              "  line-height: 1.2em;\n",
              "}\n",
              "\n",
              "#sk-container-id-3 div.sk-label-container {\n",
              "  text-align: center;\n",
              "}\n",
              "\n",
              "/* Estimator-specific */\n",
              "#sk-container-id-3 div.sk-estimator {\n",
              "  font-family: monospace;\n",
              "  border: 1px dotted var(--sklearn-color-border-box);\n",
              "  border-radius: 0.25em;\n",
              "  box-sizing: border-box;\n",
              "  margin-bottom: 0.5em;\n",
              "  /* unfitted */\n",
              "  background-color: var(--sklearn-color-unfitted-level-0);\n",
              "}\n",
              "\n",
              "#sk-container-id-3 div.sk-estimator.fitted {\n",
              "  /* fitted */\n",
              "  background-color: var(--sklearn-color-fitted-level-0);\n",
              "}\n",
              "\n",
              "/* on hover */\n",
              "#sk-container-id-3 div.sk-estimator:hover {\n",
              "  /* unfitted */\n",
              "  background-color: var(--sklearn-color-unfitted-level-2);\n",
              "}\n",
              "\n",
              "#sk-container-id-3 div.sk-estimator.fitted:hover {\n",
              "  /* fitted */\n",
              "  background-color: var(--sklearn-color-fitted-level-2);\n",
              "}\n",
              "\n",
              "/* Specification for estimator info (e.g. \"i\" and \"?\") */\n",
              "\n",
              "/* Common style for \"i\" and \"?\" */\n",
              "\n",
              ".sk-estimator-doc-link,\n",
              "a:link.sk-estimator-doc-link,\n",
              "a:visited.sk-estimator-doc-link {\n",
              "  float: right;\n",
              "  font-size: smaller;\n",
              "  line-height: 1em;\n",
              "  font-family: monospace;\n",
              "  background-color: var(--sklearn-color-background);\n",
              "  border-radius: 1em;\n",
              "  height: 1em;\n",
              "  width: 1em;\n",
              "  text-decoration: none !important;\n",
              "  margin-left: 1ex;\n",
              "  /* unfitted */\n",
              "  border: var(--sklearn-color-unfitted-level-1) 1pt solid;\n",
              "  color: var(--sklearn-color-unfitted-level-1);\n",
              "}\n",
              "\n",
              ".sk-estimator-doc-link.fitted,\n",
              "a:link.sk-estimator-doc-link.fitted,\n",
              "a:visited.sk-estimator-doc-link.fitted {\n",
              "  /* fitted */\n",
              "  border: var(--sklearn-color-fitted-level-1) 1pt solid;\n",
              "  color: var(--sklearn-color-fitted-level-1);\n",
              "}\n",
              "\n",
              "/* On hover */\n",
              "div.sk-estimator:hover .sk-estimator-doc-link:hover,\n",
              ".sk-estimator-doc-link:hover,\n",
              "div.sk-label-container:hover .sk-estimator-doc-link:hover,\n",
              ".sk-estimator-doc-link:hover {\n",
              "  /* unfitted */\n",
              "  background-color: var(--sklearn-color-unfitted-level-3);\n",
              "  color: var(--sklearn-color-background);\n",
              "  text-decoration: none;\n",
              "}\n",
              "\n",
              "div.sk-estimator.fitted:hover .sk-estimator-doc-link.fitted:hover,\n",
              ".sk-estimator-doc-link.fitted:hover,\n",
              "div.sk-label-container:hover .sk-estimator-doc-link.fitted:hover,\n",
              ".sk-estimator-doc-link.fitted:hover {\n",
              "  /* fitted */\n",
              "  background-color: var(--sklearn-color-fitted-level-3);\n",
              "  color: var(--sklearn-color-background);\n",
              "  text-decoration: none;\n",
              "}\n",
              "\n",
              "/* Span, style for the box shown on hovering the info icon */\n",
              ".sk-estimator-doc-link span {\n",
              "  display: none;\n",
              "  z-index: 9999;\n",
              "  position: relative;\n",
              "  font-weight: normal;\n",
              "  right: .2ex;\n",
              "  padding: .5ex;\n",
              "  margin: .5ex;\n",
              "  width: min-content;\n",
              "  min-width: 20ex;\n",
              "  max-width: 50ex;\n",
              "  color: var(--sklearn-color-text);\n",
              "  box-shadow: 2pt 2pt 4pt #999;\n",
              "  /* unfitted */\n",
              "  background: var(--sklearn-color-unfitted-level-0);\n",
              "  border: .5pt solid var(--sklearn-color-unfitted-level-3);\n",
              "}\n",
              "\n",
              ".sk-estimator-doc-link.fitted span {\n",
              "  /* fitted */\n",
              "  background: var(--sklearn-color-fitted-level-0);\n",
              "  border: var(--sklearn-color-fitted-level-3);\n",
              "}\n",
              "\n",
              ".sk-estimator-doc-link:hover span {\n",
              "  display: block;\n",
              "}\n",
              "\n",
              "/* \"?\"-specific style due to the `<a>` HTML tag */\n",
              "\n",
              "#sk-container-id-3 a.estimator_doc_link {\n",
              "  float: right;\n",
              "  font-size: 1rem;\n",
              "  line-height: 1em;\n",
              "  font-family: monospace;\n",
              "  background-color: var(--sklearn-color-background);\n",
              "  border-radius: 1rem;\n",
              "  height: 1rem;\n",
              "  width: 1rem;\n",
              "  text-decoration: none;\n",
              "  /* unfitted */\n",
              "  color: var(--sklearn-color-unfitted-level-1);\n",
              "  border: var(--sklearn-color-unfitted-level-1) 1pt solid;\n",
              "}\n",
              "\n",
              "#sk-container-id-3 a.estimator_doc_link.fitted {\n",
              "  /* fitted */\n",
              "  border: var(--sklearn-color-fitted-level-1) 1pt solid;\n",
              "  color: var(--sklearn-color-fitted-level-1);\n",
              "}\n",
              "\n",
              "/* On hover */\n",
              "#sk-container-id-3 a.estimator_doc_link:hover {\n",
              "  /* unfitted */\n",
              "  background-color: var(--sklearn-color-unfitted-level-3);\n",
              "  color: var(--sklearn-color-background);\n",
              "  text-decoration: none;\n",
              "}\n",
              "\n",
              "#sk-container-id-3 a.estimator_doc_link.fitted:hover {\n",
              "  /* fitted */\n",
              "  background-color: var(--sklearn-color-fitted-level-3);\n",
              "}\n",
              "</style><div id=\"sk-container-id-3\" class=\"sk-top-container\"><div class=\"sk-text-repr-fallback\"><pre>LogisticRegression()</pre><b>In a Jupyter environment, please rerun this cell to show the HTML representation or trust the notebook. <br />On GitHub, the HTML representation is unable to render, please try loading this page with nbviewer.org.</b></div><div class=\"sk-container\" hidden><div class=\"sk-item\"><div class=\"sk-estimator fitted sk-toggleable\"><input class=\"sk-toggleable__control sk-hidden--visually\" id=\"sk-estimator-id-3\" type=\"checkbox\" checked><label for=\"sk-estimator-id-3\" class=\"sk-toggleable__label fitted sk-toggleable__label-arrow fitted\">&nbsp;&nbsp;LogisticRegression<a class=\"sk-estimator-doc-link fitted\" rel=\"noreferrer\" target=\"_blank\" href=\"https://scikit-learn.org/1.5/modules/generated/sklearn.linear_model.LogisticRegression.html\">?<span>Documentation for LogisticRegression</span></a><span class=\"sk-estimator-doc-link fitted\">i<span>Fitted</span></span></label><div class=\"sk-toggleable__content fitted\"><pre>LogisticRegression()</pre></div> </div></div></div></div>"
            ]
          },
          "metadata": {},
          "execution_count": 58
        }
      ]
    },
    {
      "cell_type": "markdown",
      "source": [
        "11. Train the model on the training data and make predictions on the test data."
      ],
      "metadata": {
        "id": "rvZc_tWMQn_b"
      }
    },
    {
      "cell_type": "code",
      "source": [
        "# Predict\n",
        "y_pred = lr.predict(X_test)"
      ],
      "metadata": {
        "id": "Tu7jDP8xQrOg"
      },
      "execution_count": null,
      "outputs": []
    },
    {
      "cell_type": "markdown",
      "source": [
        "12. Evaluate the model's performance using appropriate metrics (e.g., accuracy, precision, recall)."
      ],
      "metadata": {
        "id": "wsf0qJeGQrs1"
      }
    },
    {
      "cell_type": "code",
      "source": [
        "# Evaluate model\n",
        "accuracy = accuracy_score(y_test, y_pred)\n",
        "precision = precision_score(y_test, y_pred)\n",
        "recall = recall_score(y_test, y_pred)\n",
        "print(f\"Accuracy: {accuracy * 100:.2f}%\")\n",
        "print(f\"Precision: {precision:.2f}\")\n",
        "print(f\"Recall: {recall:.2f}\")"
      ],
      "metadata": {
        "colab": {
          "base_uri": "https://localhost:8080/"
        },
        "id": "pXYhAdLwQv7O",
        "outputId": "311ee6d0-0290-4e2b-c1f2-86076ecc69ed"
      },
      "execution_count": null,
      "outputs": [
        {
          "output_type": "stream",
          "name": "stdout",
          "text": [
            "Accuracy: 50.00%\n",
            "Precision: 0.48\n",
            "Recall: 0.63\n"
          ]
        }
      ]
    },
    {
      "cell_type": "markdown",
      "source": [
        "13. Model Interpretation"
      ],
      "metadata": {
        "id": "W-5NCnFsRg2I"
      }
    },
    {
      "cell_type": "code",
      "source": [
        "# Model Coefficients\n",
        "coefficients = pd.DataFrame(lr.coef_[0], index=X.columns, columns=['Coefficient'])\n",
        "print(\"\\nModel Coefficients:\")\n",
        "print(coefficients)"
      ],
      "metadata": {
        "colab": {
          "base_uri": "https://localhost:8080/"
        },
        "id": "7wfn_-vCRnGl",
        "outputId": "49e674b2-ca15-46d5-fd9e-53679ee74d24"
      },
      "execution_count": null,
      "outputs": [
        {
          "output_type": "stream",
          "name": "stdout",
          "text": [
            "\n",
            "Model Coefficients:\n",
            "                Coefficient\n",
            "Age               -0.101584\n",
            "MonthlyCharge     -0.011138\n",
            "Tenure            -0.070746\n",
            "HasSupport         0.413682\n",
            "IsActiveMember     0.253539\n"
          ]
        }
      ]
    },
    {
      "cell_type": "markdown",
      "source": [
        "14. Discuss the importance of different features in predicting customer churn based on the coefficients from the logistic regression model."
      ],
      "metadata": {
        "id": "ov7ENk18Rn8P"
      }
    },
    {
      "cell_type": "code",
      "source": [
        "coef_dict = {}\n",
        "for coef, feat in zip(lr.coef_[0], features):\n",
        "   coef_dict[feat] = coef\n",
        "print(coef_dict)"
      ],
      "metadata": {
        "colab": {
          "base_uri": "https://localhost:8080/"
        },
        "id": "hTnD2vS5RuJk",
        "outputId": "21fe412c-88ed-42e1-dd03-8cb50098f5a8"
      },
      "execution_count": null,
      "outputs": [
        {
          "output_type": "stream",
          "name": "stdout",
          "text": [
            "{'Age': -0.10158422674651518, 'MonthlyCharge': -0.011137534626861442, 'Tenure': -0.0707463722457591}\n"
          ]
        }
      ]
    },
    {
      "cell_type": "markdown",
      "source": [
        "15. Evaluate the model's performance using a confusion matrix and discuss the results."
      ],
      "metadata": {
        "id": "TmeajkgDR2WX"
      }
    },
    {
      "cell_type": "code",
      "source": [
        "from sklearn.metrics import confusion_matrix\n",
        "cm = confusion_matrix(y_test, y_pred)\n",
        "sns.heatmap(cm, annot=True, fmt=\"d\")\n",
        "plt.show()"
      ],
      "metadata": {
        "colab": {
          "base_uri": "https://localhost:8080/",
          "height": 435
        },
        "id": "UwrwD9cHR4cz",
        "outputId": "475c0782-22b3-43a1-8c93-6a85f43c1fd8"
      },
      "execution_count": null,
      "outputs": [
        {
          "output_type": "display_data",
          "data": {
            "text/plain": [
              "<Figure size 640x480 with 2 Axes>"
            ],
            "image/png": "[encoded data removed]"
          },
          "metadata": {}
        }
      ]
    },
    {
      "cell_type": "code",
      "source": [],
      "metadata": {
        "id": "n_cERAu3UKBc"
      },
      "execution_count": null,
      "outputs": []
    },
    {
      "cell_type": "markdown",
      "source": [
        "# 6. **Assignment: Predicting Disease Outbreak using Ensemble Techniques and Decision Trees**"
      ],
      "metadata": {
        "id": "MLnf01ZXUP_m"
      }
    },
    {
      "cell_type": "markdown",
      "source": [
        "1. Data Exploration"
      ],
      "metadata": {
        "id": "ALgnZ5PEUc-O"
      }
    },
    {
      "cell_type": "code",
      "source": [
        "import pandas as pd\n",
        "import numpy as np\n",
        "# Mock dataset\n",
        "np.random.seed(42)\n",
        "data = {\n",
        "'PatientID': np.arange(1, 201),\n",
        "'Age': np.random.randint(10, 80, 200),\n",
        "'Gender': np.random.choice(['Male', 'Female'], 200),\n",
        "'RecentTravel': np.random.choice([0, 1], 200),\n",
        "'Vaccinated': np.random.choice([0, 1], 200),\n",
        "'Symptoms': np.random.randint(1, 6, 200),\n",
        "'Affected': np.random.choice([0, 1], 200)\n",
        "}"
      ],
      "metadata": {
        "id": "lyBxDQxpUUtl"
      },
      "execution_count": null,
      "outputs": []
    },
    {
      "cell_type": "markdown",
      "source": [
        "2. Load the dataset into a pandas DataFrame."
      ],
      "metadata": {
        "id": "z7gB-JOqUr4X"
      }
    },
    {
      "cell_type": "code",
      "source": [
        "df = pd.DataFrame(data)"
      ],
      "metadata": {
        "id": "AbqpSaOxUsmk"
      },
      "execution_count": null,
      "outputs": []
    },
    {
      "cell_type": "markdown",
      "source": [
        "3. Explore the distribution of the target variable (Affected)."
      ],
      "metadata": {
        "id": "H5VeD3R1Uw-v"
      }
    },
    {
      "cell_type": "code",
      "source": [
        "# Display distribution of Affected\n",
        "print(df['Affected'].value_counts(normalize=True))"
      ],
      "metadata": {
        "colab": {
          "base_uri": "https://localhost:8080/"
        },
        "id": "a9Jj04UXUxw3",
        "outputId": "8625b19b-b460-4a2f-df58-74313beeb133"
      },
      "execution_count": null,
      "outputs": [
        {
          "output_type": "stream",
          "name": "stdout",
          "text": [
            "Affected\n",
            "1    0.505\n",
            "0    0.495\n",
            "Name: proportion, dtype: float64\n"
          ]
        }
      ]
    },
    {
      "cell_type": "markdown",
      "source": [
        "4. Visualize different attributes and their relationships with the target variable."
      ],
      "metadata": {
        "id": "uBbTl7yZU5C-"
      }
    },
    {
      "cell_type": "code",
      "source": [
        "# Visualize relationship of different attributes with Affected\n",
        "import matplotlib.pyplot as plt\n",
        "import seaborn as sns\n",
        "\n",
        "# sns.countplot(x='Vaccinated', hue='Affected', data=df)\n",
        "# plt.show()\n",
        "# sns.countplot(x='RecentTravel', hue='Affected', data=df)\n",
        "# plt.show()"
      ],
      "metadata": {
        "id": "nzTbL4iyU65C"
      },
      "execution_count": null,
      "outputs": []
    },
    {
      "source": [
        "# Create a figure and two subplots (1 row, 2 columns)\n",
        "fig, axes = plt.subplots(1, 2, figsize=(10, 4))  # Adjust figsize as needed\n",
        "\n",
        "# Plot the first countplot on the first subplot\n",
        "sns.countplot(x='Vaccinated', hue='Affected', data=df, ax=axes[0])\n",
        "axes[0].set_title('Affected Distribution by Vaccination Status')\n",
        "\n",
        "# Plot the second countplot on the second subplot\n",
        "sns.countplot(x='RecentTravel', hue='Affected', data=df, ax=axes[1])\n",
        "axes[1].set_title('Affected Distribution by Recent Travel')\n",
        "\n",
        "# Adjust spacing between subplots\n",
        "plt.tight_layout()\n",
        "\n",
        "# Show the plot\n",
        "plt.show()"
      ],
      "cell_type": "code",
      "metadata": {
        "colab": {
          "base_uri": "https://localhost:8080/",
          "height": 407
        },
        "id": "euzGGYMYh1T4",
        "outputId": "1f2969f4-0e32-45ef-88d0-eb835fe50a79"
      },
      "execution_count": null,
      "outputs": [
        {
          "output_type": "display_data",
          "data": {
            "text/plain": [
              "<Figure size 1000x400 with 2 Axes>"
            ],
            "image/png": "[encoded data removed]"
          },
          "metadata": {}
        }
      ]
    },
    {
      "cell_type": "markdown",
      "source": [
        "5. Data Preprocessing"
      ],
      "metadata": {
        "id": "i-MMfpZ-VRxO"
      }
    },
    {
      "cell_type": "code",
      "source": [
        "from sklearn.preprocessing import StandardScaler"
      ],
      "metadata": {
        "id": "_r1qslAlVZxc"
      },
      "execution_count": null,
      "outputs": []
    },
    {
      "cell_type": "markdown",
      "source": [
        "6. Handle any missing or anomalous values."
      ],
      "metadata": {
        "id": "P2kfLLUVVaMB"
      }
    },
    {
      "cell_type": "code",
      "source": [
        "# Check for missing values\n",
        "missing_values = df.isnull().sum()\n",
        "print(\"Missing Values in Each Column:\")\n",
        "print(missing_values)\n",
        "\n",
        "# Simulate missing data for demonstration\n",
        "# Uncomment the line below to create missing values for testing\n",
        "# df.loc[::20, 'Age'] = np.nan  # Introduce NaN values for demonstration\n",
        "\n",
        "# Fill missing values using .loc to avoid chained assignment warnings\n",
        "if df['Age'].isnull().any():\n",
        "    df.loc[df['Age'].isnull(), 'Age'] = df['Age'].mean()  # Fill Age with mean\n",
        "\n",
        "if df['Gender'].isnull().any():\n",
        "    df.loc[df['Gender'].isnull(), 'Gender'] = df['Gender'].mode()[0]  # Fill Gender with mode\n",
        "\n",
        "if df['RecentTravel'].isnull().any():\n",
        "    df.loc[df['RecentTravel'].isnull(), 'RecentTravel'] = df['RecentTravel'].mode()[0]  # Fill RecentTravel with mode\n",
        "\n",
        "if df['Vaccinated'].isnull().any():\n",
        "    df.loc[df['Vaccinated'].isnull(), 'Vaccinated'] = df['Vaccinated'].mode()[0]  # Fill Vaccinated with mode\n",
        "\n",
        "if df['Symptoms'].isnull().any():\n",
        "    df.loc[df['Symptoms'].isnull(), 'Symptoms'] = df['Symptoms'].mode()[0]  # Fill Symptoms with mode\n",
        "\n",
        "if df['Affected'].isnull().any():\n",
        "    df.loc[df['Affected'].isnull(), 'Affected'] = df['Affected'].mode()[0]  # Fill Affected with mode\n",
        "\n",
        "# Check for missing values again\n",
        "missing_values_after = df.isnull().sum()\n",
        "print(\"\\nMissing Values After Filling:\")\n",
        "print(missing_values_after)\n",
        "\n",
        "# Display the first few rows of the updated DataFrame\n",
        "print(\"\\nUpdated DataFrame:\")\n",
        "print(df.head())"
      ],
      "metadata": {
        "colab": {
          "base_uri": "https://localhost:8080/"
        },
        "id": "6BX495N1Vc3D",
        "outputId": "762b355d-2fed-4e7f-e7ff-92da91a4dcc8"
      },
      "execution_count": null,
      "outputs": [
        {
          "output_type": "stream",
          "name": "stdout",
          "text": [
            "Missing Values in Each Column:\n",
            "PatientID       0\n",
            "Age             0\n",
            "Gender          0\n",
            "RecentTravel    0\n",
            "Vaccinated      0\n",
            "Symptoms        0\n",
            "Affected        0\n",
            "dtype: int64\n",
            "\n",
            "Missing Values After Filling:\n",
            "PatientID       0\n",
            "Age             0\n",
            "Gender          0\n",
            "RecentTravel    0\n",
            "Vaccinated      0\n",
            "Symptoms        0\n",
            "Affected        0\n",
            "dtype: int64\n",
            "\n",
            "Updated DataFrame:\n",
            "   PatientID  Age  Gender  RecentTravel  Vaccinated  Symptoms  Affected\n",
            "0          1   61    Male             1           1         4         0\n",
            "1          2   24  Female             1           1         4         1\n",
            "2          3   70    Male             1           0         5         0\n",
            "3          4   30  Female             1           0         2         1\n",
            "4          5   33  Female             0           0         4         1\n"
          ]
        }
      ]
    },
    {
      "cell_type": "markdown",
      "source": [
        "7. Convert categorical variables into a suitable numerical format if required.\n"
      ],
      "metadata": {
        "id": "wegMEKF9VdXZ"
      }
    },
    {
      "cell_type": "code",
      "source": [
        "df['Gender'] = df['Gender'].map({'Male': 0, 'Female': 1})"
      ],
      "metadata": {
        "id": "gKDXQO6aVgs8"
      },
      "execution_count": null,
      "outputs": []
    },
    {
      "cell_type": "markdown",
      "source": [
        "8. Model Building - Decision Tree"
      ],
      "metadata": {
        "id": "aMgJX8tCVhVZ"
      }
    },
    {
      "cell_type": "code",
      "source": [
        "from sklearn.model_selection import train_test_split\n",
        "from sklearn.tree import DecisionTreeClassifier\n",
        "from sklearn.metrics import accuracy_score"
      ],
      "metadata": {
        "id": "v6x6_yOzVj05"
      },
      "execution_count": null,
      "outputs": []
    },
    {
      "cell_type": "markdown",
      "source": [
        "9. Implement a decision tree classifier."
      ],
      "metadata": {
        "id": "rfitNZVUVkP-"
      }
    },
    {
      "cell_type": "code",
      "source": [
        "# Implement decision tree\n",
        "dt = DecisionTreeClassifier()\n",
        "dt.fit(X_train, y_train)"
      ],
      "metadata": {
        "colab": {
          "base_uri": "https://localhost:8080/",
          "height": 80
        },
        "id": "_GvVLRXQVrqu",
        "outputId": "cee45b14-6595-465f-ec8b-462c5ddbcbe4"
      },
      "execution_count": null,
      "outputs": [
        {
          "output_type": "execute_result",
          "data": {
            "text/plain": [
              "DecisionTreeClassifier()"
            ],
            "text/html": [
              "<style>#sk-container-id-4 {\n",
              "  /* Definition of color scheme common for light and dark mode */\n",
              "  --sklearn-color-text: black;\n",
              "  --sklearn-color-line: gray;\n",
              "  /* Definition of color scheme for unfitted estimators */\n",
              "  --sklearn-color-unfitted-level-0: #fff5e6;\n",
              "  --sklearn-color-unfitted-level-1: #f6e4d2;\n",
              "  --sklearn-color-unfitted-level-2: #ffe0b3;\n",
              "  --sklearn-color-unfitted-level-3: chocolate;\n",
              "  /* Definition of color scheme for fitted estimators */\n",
              "  --sklearn-color-fitted-level-0: #f0f8ff;\n",
              "  --sklearn-color-fitted-level-1: #d4ebff;\n",
              "  --sklearn-color-fitted-level-2: #b3dbfd;\n",
              "  --sklearn-color-fitted-level-3: cornflowerblue;\n",
              "\n",
              "  /* Specific color for light theme */\n",
              "  --sklearn-color-text-on-default-background: var(--sg-text-color, var(--theme-code-foreground, var(--jp-content-font-color1, black)));\n",
              "  --sklearn-color-background: var(--sg-background-color, var(--theme-background, var(--jp-layout-color0, white)));\n",
              "  --sklearn-color-border-box: var(--sg-text-color, var(--theme-code-foreground, var(--jp-content-font-color1, black)));\n",
              "  --sklearn-color-icon: #696969;\n",
              "\n",
              "  @media (prefers-color-scheme: dark) {\n",
              "    /* Redefinition of color scheme for dark theme */\n",
              "    --sklearn-color-text-on-default-background: var(--sg-text-color, var(--theme-code-foreground, var(--jp-content-font-color1, white)));\n",
              "    --sklearn-color-background: var(--sg-background-color, var(--theme-background, var(--jp-layout-color0, #111)));\n",
              "    --sklearn-color-border-box: var(--sg-text-color, var(--theme-code-foreground, var(--jp-content-font-color1, white)));\n",
              "    --sklearn-color-icon: #878787;\n",
              "  }\n",
              "}\n",
              "\n",
              "#sk-container-id-4 {\n",
              "  color: var(--sklearn-color-text);\n",
              "}\n",
              "\n",
              "#sk-container-id-4 pre {\n",
              "  padding: 0;\n",
              "}\n",
              "\n",
              "#sk-container-id-4 input.sk-hidden--visually {\n",
              "  border: 0;\n",
              "  clip: rect(1px 1px 1px 1px);\n",
              "  clip: rect(1px, 1px, 1px, 1px);\n",
              "  height: 1px;\n",
              "  margin: -1px;\n",
              "  overflow: hidden;\n",
              "  padding: 0;\n",
              "  position: absolute;\n",
              "  width: 1px;\n",
              "}\n",
              "\n",
              "#sk-container-id-4 div.sk-dashed-wrapped {\n",
              "  border: 1px dashed var(--sklearn-color-line);\n",
              "  margin: 0 0.4em 0.5em 0.4em;\n",
              "  box-sizing: border-box;\n",
              "  padding-bottom: 0.4em;\n",
              "  background-color: var(--sklearn-color-background);\n",
              "}\n",
              "\n",
              "#sk-container-id-4 div.sk-container {\n",
              "  /* jupyter's `normalize.less` sets `[hidden] { display: none; }`\n",
              "     but bootstrap.min.css set `[hidden] { display: none !important; }`\n",
              "     so we also need the `!important` here to be able to override the\n",
              "     default hidden behavior on the sphinx rendered scikit-learn.org.\n",
              "     See: https://github.com/scikit-learn/scikit-learn/issues/21755 */\n",
              "  display: inline-block !important;\n",
              "  position: relative;\n",
              "}\n",
              "\n",
              "#sk-container-id-4 div.sk-text-repr-fallback {\n",
              "  display: none;\n",
              "}\n",
              "\n",
              "div.sk-parallel-item,\n",
              "div.sk-serial,\n",
              "div.sk-item {\n",
              "  /* draw centered vertical line to link estimators */\n",
              "  background-image: linear-gradient(var(--sklearn-color-text-on-default-background), var(--sklearn-color-text-on-default-background));\n",
              "  background-size: 2px 100%;\n",
              "  background-repeat: no-repeat;\n",
              "  background-position: center center;\n",
              "}\n",
              "\n",
              "/* Parallel-specific style estimator block */\n",
              "\n",
              "#sk-container-id-4 div.sk-parallel-item::after {\n",
              "  content: \"\";\n",
              "  width: 100%;\n",
              "  border-bottom: 2px solid var(--sklearn-color-text-on-default-background);\n",
              "  flex-grow: 1;\n",
              "}\n",
              "\n",
              "#sk-container-id-4 div.sk-parallel {\n",
              "  display: flex;\n",
              "  align-items: stretch;\n",
              "  justify-content: center;\n",
              "  background-color: var(--sklearn-color-background);\n",
              "  position: relative;\n",
              "}\n",
              "\n",
              "#sk-container-id-4 div.sk-parallel-item {\n",
              "  display: flex;\n",
              "  flex-direction: column;\n",
              "}\n",
              "\n",
              "#sk-container-id-4 div.sk-parallel-item:first-child::after {\n",
              "  align-self: flex-end;\n",
              "  width: 50%;\n",
              "}\n",
              "\n",
              "#sk-container-id-4 div.sk-parallel-item:last-child::after {\n",
              "  align-self: flex-start;\n",
              "  width: 50%;\n",
              "}\n",
              "\n",
              "#sk-container-id-4 div.sk-parallel-item:only-child::after {\n",
              "  width: 0;\n",
              "}\n",
              "\n",
              "/* Serial-specific style estimator block */\n",
              "\n",
              "#sk-container-id-4 div.sk-serial {\n",
              "  display: flex;\n",
              "  flex-direction: column;\n",
              "  align-items: center;\n",
              "  background-color: var(--sklearn-color-background);\n",
              "  padding-right: 1em;\n",
              "  padding-left: 1em;\n",
              "}\n",
              "\n",
              "\n",
              "/* Toggleable style: style used for estimator/Pipeline/ColumnTransformer box that is\n",
              "clickable and can be expanded/collapsed.\n",
              "- Pipeline and ColumnTransformer use this feature and define the default style\n",
              "- Estimators will overwrite some part of the style using the `sk-estimator` class\n",
              "*/\n",
              "\n",
              "/* Pipeline and ColumnTransformer style (default) */\n",
              "\n",
              "#sk-container-id-4 div.sk-toggleable {\n",
              "  /* Default theme specific background. It is overwritten whether we have a\n",
              "  specific estimator or a Pipeline/ColumnTransformer */\n",
              "  background-color: var(--sklearn-color-background);\n",
              "}\n",
              "\n",
              "/* Toggleable label */\n",
              "#sk-container-id-4 label.sk-toggleable__label {\n",
              "  cursor: pointer;\n",
              "  display: block;\n",
              "  width: 100%;\n",
              "  margin-bottom: 0;\n",
              "  padding: 0.5em;\n",
              "  box-sizing: border-box;\n",
              "  text-align: center;\n",
              "}\n",
              "\n",
              "#sk-container-id-4 label.sk-toggleable__label-arrow:before {\n",
              "  /* Arrow on the left of the label */\n",
              "  content: \"▸\";\n",
              "  float: left;\n",
              "  margin-right: 0.25em;\n",
              "  color: var(--sklearn-color-icon);\n",
              "}\n",
              "\n",
              "#sk-container-id-4 label.sk-toggleable__label-arrow:hover:before {\n",
              "  color: var(--sklearn-color-text);\n",
              "}\n",
              "\n",
              "/* Toggleable content - dropdown */\n",
              "\n",
              "#sk-container-id-4 div.sk-toggleable__content {\n",
              "  max-height: 0;\n",
              "  max-width: 0;\n",
              "  overflow: hidden;\n",
              "  text-align: left;\n",
              "  /* unfitted */\n",
              "  background-color: var(--sklearn-color-unfitted-level-0);\n",
              "}\n",
              "\n",
              "#sk-container-id-4 div.sk-toggleable__content.fitted {\n",
              "  /* fitted */\n",
              "  background-color: var(--sklearn-color-fitted-level-0);\n",
              "}\n",
              "\n",
              "#sk-container-id-4 div.sk-toggleable__content pre {\n",
              "  margin: 0.2em;\n",
              "  border-radius: 0.25em;\n",
              "  color: var(--sklearn-color-text);\n",
              "  /* unfitted */\n",
              "  background-color: var(--sklearn-color-unfitted-level-0);\n",
              "}\n",
              "\n",
              "#sk-container-id-4 div.sk-toggleable__content.fitted pre {\n",
              "  /* unfitted */\n",
              "  background-color: var(--sklearn-color-fitted-level-0);\n",
              "}\n",
              "\n",
              "#sk-container-id-4 input.sk-toggleable__control:checked~div.sk-toggleable__content {\n",
              "  /* Expand drop-down */\n",
              "  max-height: 200px;\n",
              "  max-width: 100%;\n",
              "  overflow: auto;\n",
              "}\n",
              "\n",
              "#sk-container-id-4 input.sk-toggleable__control:checked~label.sk-toggleable__label-arrow:before {\n",
              "  content: \"▾\";\n",
              "}\n",
              "\n",
              "/* Pipeline/ColumnTransformer-specific style */\n",
              "\n",
              "#sk-container-id-4 div.sk-label input.sk-toggleable__control:checked~label.sk-toggleable__label {\n",
              "  color: var(--sklearn-color-text);\n",
              "  background-color: var(--sklearn-color-unfitted-level-2);\n",
              "}\n",
              "\n",
              "#sk-container-id-4 div.sk-label.fitted input.sk-toggleable__control:checked~label.sk-toggleable__label {\n",
              "  background-color: var(--sklearn-color-fitted-level-2);\n",
              "}\n",
              "\n",
              "/* Estimator-specific style */\n",
              "\n",
              "/* Colorize estimator box */\n",
              "#sk-container-id-4 div.sk-estimator input.sk-toggleable__control:checked~label.sk-toggleable__label {\n",
              "  /* unfitted */\n",
              "  background-color: var(--sklearn-color-unfitted-level-2);\n",
              "}\n",
              "\n",
              "#sk-container-id-4 div.sk-estimator.fitted input.sk-toggleable__control:checked~label.sk-toggleable__label {\n",
              "  /* fitted */\n",
              "  background-color: var(--sklearn-color-fitted-level-2);\n",
              "}\n",
              "\n",
              "#sk-container-id-4 div.sk-label label.sk-toggleable__label,\n",
              "#sk-container-id-4 div.sk-label label {\n",
              "  /* The background is the default theme color */\n",
              "  color: var(--sklearn-color-text-on-default-background);\n",
              "}\n",
              "\n",
              "/* On hover, darken the color of the background */\n",
              "#sk-container-id-4 div.sk-label:hover label.sk-toggleable__label {\n",
              "  color: var(--sklearn-color-text);\n",
              "  background-color: var(--sklearn-color-unfitted-level-2);\n",
              "}\n",
              "\n",
              "/* Label box, darken color on hover, fitted */\n",
              "#sk-container-id-4 div.sk-label.fitted:hover label.sk-toggleable__label.fitted {\n",
              "  color: var(--sklearn-color-text);\n",
              "  background-color: var(--sklearn-color-fitted-level-2);\n",
              "}\n",
              "\n",
              "/* Estimator label */\n",
              "\n",
              "#sk-container-id-4 div.sk-label label {\n",
              "  font-family: monospace;\n",
              "  font-weight: bold;\n",
              "  display: inline-block;\n",
              "  line-height: 1.2em;\n",
              "}\n",
              "\n",
              "#sk-container-id-4 div.sk-label-container {\n",
              "  text-align: center;\n",
              "}\n",
              "\n",
              "/* Estimator-specific */\n",
              "#sk-container-id-4 div.sk-estimator {\n",
              "  font-family: monospace;\n",
              "  border: 1px dotted var(--sklearn-color-border-box);\n",
              "  border-radius: 0.25em;\n",
              "  box-sizing: border-box;\n",
              "  margin-bottom: 0.5em;\n",
              "  /* unfitted */\n",
              "  background-color: var(--sklearn-color-unfitted-level-0);\n",
              "}\n",
              "\n",
              "#sk-container-id-4 div.sk-estimator.fitted {\n",
              "  /* fitted */\n",
              "  background-color: var(--sklearn-color-fitted-level-0);\n",
              "}\n",
              "\n",
              "/* on hover */\n",
              "#sk-container-id-4 div.sk-estimator:hover {\n",
              "  /* unfitted */\n",
              "  background-color: var(--sklearn-color-unfitted-level-2);\n",
              "}\n",
              "\n",
              "#sk-container-id-4 div.sk-estimator.fitted:hover {\n",
              "  /* fitted */\n",
              "  background-color: var(--sklearn-color-fitted-level-2);\n",
              "}\n",
              "\n",
              "/* Specification for estimator info (e.g. \"i\" and \"?\") */\n",
              "\n",
              "/* Common style for \"i\" and \"?\" */\n",
              "\n",
              ".sk-estimator-doc-link,\n",
              "a:link.sk-estimator-doc-link,\n",
              "a:visited.sk-estimator-doc-link {\n",
              "  float: right;\n",
              "  font-size: smaller;\n",
              "  line-height: 1em;\n",
              "  font-family: monospace;\n",
              "  background-color: var(--sklearn-color-background);\n",
              "  border-radius: 1em;\n",
              "  height: 1em;\n",
              "  width: 1em;\n",
              "  text-decoration: none !important;\n",
              "  margin-left: 1ex;\n",
              "  /* unfitted */\n",
              "  border: var(--sklearn-color-unfitted-level-1) 1pt solid;\n",
              "  color: var(--sklearn-color-unfitted-level-1);\n",
              "}\n",
              "\n",
              ".sk-estimator-doc-link.fitted,\n",
              "a:link.sk-estimator-doc-link.fitted,\n",
              "a:visited.sk-estimator-doc-link.fitted {\n",
              "  /* fitted */\n",
              "  border: var(--sklearn-color-fitted-level-1) 1pt solid;\n",
              "  color: var(--sklearn-color-fitted-level-1);\n",
              "}\n",
              "\n",
              "/* On hover */\n",
              "div.sk-estimator:hover .sk-estimator-doc-link:hover,\n",
              ".sk-estimator-doc-link:hover,\n",
              "div.sk-label-container:hover .sk-estimator-doc-link:hover,\n",
              ".sk-estimator-doc-link:hover {\n",
              "  /* unfitted */\n",
              "  background-color: var(--sklearn-color-unfitted-level-3);\n",
              "  color: var(--sklearn-color-background);\n",
              "  text-decoration: none;\n",
              "}\n",
              "\n",
              "div.sk-estimator.fitted:hover .sk-estimator-doc-link.fitted:hover,\n",
              ".sk-estimator-doc-link.fitted:hover,\n",
              "div.sk-label-container:hover .sk-estimator-doc-link.fitted:hover,\n",
              ".sk-estimator-doc-link.fitted:hover {\n",
              "  /* fitted */\n",
              "  background-color: var(--sklearn-color-fitted-level-3);\n",
              "  color: var(--sklearn-color-background);\n",
              "  text-decoration: none;\n",
              "}\n",
              "\n",
              "/* Span, style for the box shown on hovering the info icon */\n",
              ".sk-estimator-doc-link span {\n",
              "  display: none;\n",
              "  z-index: 9999;\n",
              "  position: relative;\n",
              "  font-weight: normal;\n",
              "  right: .2ex;\n",
              "  padding: .5ex;\n",
              "  margin: .5ex;\n",
              "  width: min-content;\n",
              "  min-width: 20ex;\n",
              "  max-width: 50ex;\n",
              "  color: var(--sklearn-color-text);\n",
              "  box-shadow: 2pt 2pt 4pt #999;\n",
              "  /* unfitted */\n",
              "  background: var(--sklearn-color-unfitted-level-0);\n",
              "  border: .5pt solid var(--sklearn-color-unfitted-level-3);\n",
              "}\n",
              "\n",
              ".sk-estimator-doc-link.fitted span {\n",
              "  /* fitted */\n",
              "  background: var(--sklearn-color-fitted-level-0);\n",
              "  border: var(--sklearn-color-fitted-level-3);\n",
              "}\n",
              "\n",
              ".sk-estimator-doc-link:hover span {\n",
              "  display: block;\n",
              "}\n",
              "\n",
              "/* \"?\"-specific style due to the `<a>` HTML tag */\n",
              "\n",
              "#sk-container-id-4 a.estimator_doc_link {\n",
              "  float: right;\n",
              "  font-size: 1rem;\n",
              "  line-height: 1em;\n",
              "  font-family: monospace;\n",
              "  background-color: var(--sklearn-color-background);\n",
              "  border-radius: 1rem;\n",
              "  height: 1rem;\n",
              "  width: 1rem;\n",
              "  text-decoration: none;\n",
              "  /* unfitted */\n",
              "  color: var(--sklearn-color-unfitted-level-1);\n",
              "  border: var(--sklearn-color-unfitted-level-1) 1pt solid;\n",
              "}\n",
              "\n",
              "#sk-container-id-4 a.estimator_doc_link.fitted {\n",
              "  /* fitted */\n",
              "  border: var(--sklearn-color-fitted-level-1) 1pt solid;\n",
              "  color: var(--sklearn-color-fitted-level-1);\n",
              "}\n",
              "\n",
              "/* On hover */\n",
              "#sk-container-id-4 a.estimator_doc_link:hover {\n",
              "  /* unfitted */\n",
              "  background-color: var(--sklearn-color-unfitted-level-3);\n",
              "  color: var(--sklearn-color-background);\n",
              "  text-decoration: none;\n",
              "}\n",
              "\n",
              "#sk-container-id-4 a.estimator_doc_link.fitted:hover {\n",
              "  /* fitted */\n",
              "  background-color: var(--sklearn-color-fitted-level-3);\n",
              "}\n",
              "</style><div id=\"sk-container-id-4\" class=\"sk-top-container\"><div class=\"sk-text-repr-fallback\"><pre>DecisionTreeClassifier()</pre><b>In a Jupyter environment, please rerun this cell to show the HTML representation or trust the notebook. <br />On GitHub, the HTML representation is unable to render, please try loading this page with nbviewer.org.</b></div><div class=\"sk-container\" hidden><div class=\"sk-item\"><div class=\"sk-estimator fitted sk-toggleable\"><input class=\"sk-toggleable__control sk-hidden--visually\" id=\"sk-estimator-id-4\" type=\"checkbox\" checked><label for=\"sk-estimator-id-4\" class=\"sk-toggleable__label fitted sk-toggleable__label-arrow fitted\">&nbsp;&nbsp;DecisionTreeClassifier<a class=\"sk-estimator-doc-link fitted\" rel=\"noreferrer\" target=\"_blank\" href=\"https://scikit-learn.org/1.5/modules/generated/sklearn.tree.DecisionTreeClassifier.html\">?<span>Documentation for DecisionTreeClassifier</span></a><span class=\"sk-estimator-doc-link fitted\">i<span>Fitted</span></span></label><div class=\"sk-toggleable__content fitted\"><pre>DecisionTreeClassifier()</pre></div> </div></div></div></div>"
            ]
          },
          "metadata": {},
          "execution_count": 74
        }
      ]
    },
    {
      "cell_type": "markdown",
      "source": [
        "10. Train the model and evaluate its performance using appropriate metrics."
      ],
      "metadata": {
        "id": "72_MCPO6VsL-"
      }
    },
    {
      "cell_type": "code",
      "source": [
        "# Predict\n",
        "y_pred_dt = dt.predict(X_test)\n",
        "# Evaluate model\n",
        "accuracy_dt = accuracy_score(y_test, y_pred_dt)\n",
        "print(f\"Decision Tree Accuracy: {accuracy_dt * 100:.2f}%\")"
      ],
      "metadata": {
        "colab": {
          "base_uri": "https://localhost:8080/"
        },
        "id": "veHiMUyQVvGC",
        "outputId": "257ff9c2-8832-426b-f083-f39afd1016be"
      },
      "execution_count": null,
      "outputs": [
        {
          "output_type": "stream",
          "name": "stdout",
          "text": [
            "Decision Tree Accuracy: 60.00%\n"
          ]
        }
      ]
    },
    {
      "cell_type": "markdown",
      "source": [
        "11. Model Building - Ensemble Techniques"
      ],
      "metadata": {
        "id": "XdpyDEiqVvg2"
      }
    },
    {
      "cell_type": "code",
      "source": [
        "from sklearn.ensemble import BaggingClassifier, AdaBoostClassifier, RandomForestClassifier"
      ],
      "metadata": {
        "id": "-WXMVX5bVy3U"
      },
      "execution_count": null,
      "outputs": []
    },
    {
      "cell_type": "markdown",
      "source": [
        "12. Implement models using ensemble techniques such as Bagging, Boosting, and Random Forests."
      ],
      "metadata": {
        "id": "UswdkOoHVzS7"
      }
    },
    {
      "cell_type": "code",
      "source": [
        "# Bagging\n",
        "bagging = BaggingClassifier(n_estimators=50, random_state=42)\n",
        "bagging.fit(X_train, y_train)\n",
        "y_pred_bagging = bagging.predict(X_test)\n",
        "accuracy_bagging = accuracy_score(y_test, y_pred_bagging)\n",
        "\n",
        "# Boosting with SAMME algorithm\n",
        "boosting = AdaBoostClassifier(estimator=dt, n_estimators=50, algorithm='SAMME', random_state=42)  # Specify the algorithm\n",
        "boosting.fit(X_train, y_train)\n",
        "y_pred_boosting = boosting.predict(X_test)\n",
        "accuracy_boosting = accuracy_score(y_test, y_pred_boosting)\n",
        "\n",
        "# Random Forest\n",
        "rf = RandomForestClassifier(n_estimators=50, random_state=42)\n",
        "rf.fit(X_train, y_train)\n",
        "y_pred_rf = rf.predict(X_test)\n",
        "accuracy_rf = accuracy_score(y_test, y_pred_rf)\n",
        "\n",
        "# Print accuracies\n",
        "print(f\"Bagging Accuracy: {accuracy_bagging * 100:.2f}%\")\n",
        "print(f\"Boosting Accuracy: {accuracy_boosting * 100:.2f}%\")\n",
        "print(f\"Random Forest Accuracy: {accuracy_rf * 100:.2f}%\")"
      ],
      "metadata": {
        "colab": {
          "base_uri": "https://localhost:8080/"
        },
        "id": "6bBhsD2WZyeW",
        "outputId": "9ce397e8-288d-4fc5-d804-dba85153bdc2"
      },
      "execution_count": null,
      "outputs": [
        {
          "output_type": "stream",
          "name": "stdout",
          "text": [
            "Bagging Accuracy: 42.50%\n",
            "Boosting Accuracy: 65.00%\n",
            "Random Forest Accuracy: 50.00%\n"
          ]
        }
      ]
    },
    {
      "cell_type": "markdown",
      "source": [
        "13. Compare the performance of these ensemble models with the decision tree model."
      ],
      "metadata": {
        "id": "MCgBgwEOV5wy"
      }
    },
    {
      "cell_type": "code",
      "source": [
        "# Initialize models\n",
        "dt = DecisionTreeClassifier(random_state=42)\n",
        "bagging = BaggingClassifier(n_estimators=50, random_state=42)\n",
        "boosting = AdaBoostClassifier(estimator=dt, n_estimators=50, algorithm='SAMME', random_state=42)\n",
        "rf = RandomForestClassifier(n_estimators=50, random_state=42)\n",
        "\n",
        "# Fit models\n",
        "dt.fit(X_train, y_train)\n",
        "bagging.fit(X_train, y_train)\n",
        "boosting.fit(X_train, y_train)\n",
        "rf.fit(X_train, y_train)\n",
        "\n",
        "# Make predictions\n",
        "y_pred_dt = dt.predict(X_test)\n",
        "y_pred_bagging = bagging.predict(X_test)\n",
        "y_pred_boosting = boosting.predict(X_test)\n",
        "y_pred_rf = rf.predict(X_test)\n",
        "\n",
        "# Calculate accuracies\n",
        "accuracy_dt = accuracy_score(y_test, y_pred_dt)\n",
        "accuracy_bagging = accuracy_score(y_test, y_pred_bagging)\n",
        "accuracy_boosting = accuracy_score(y_test, y_pred_boosting)\n",
        "accuracy_rf = accuracy_score(y_test, y_pred_rf)\n",
        "\n",
        "# Print accuracies\n",
        "print(f\"Decision Tree Accuracy: {accuracy_dt * 100:.2f}%\")\n",
        "print(f\"Bagging Accuracy: {accuracy_bagging * 100:.2f}%\")\n",
        "print(f\"Boosting Accuracy: {accuracy_boosting * 100:.2f}%\")\n",
        "print(f\"Random Forest Accuracy: {accuracy_rf * 100:.2f}%\")\n",
        "\n",
        "# Optionally print classification reports for a deeper analysis\n",
        "print(\"\\nClassification Report for Decision Tree:\")\n",
        "print(classification_report(y_test, y_pred_dt))\n",
        "\n",
        "print(\"Classification Report for Bagging:\")\n",
        "print(classification_report(y_test, y_pred_bagging))\n",
        "\n",
        "print(\"Classification Report for Boosting:\")\n",
        "print(classification_report(y_test, y_pred_boosting))\n",
        "\n",
        "print(\"Classification Report for Random Forest:\")\n",
        "print(classification_report(y_test, y_pred_rf))"
      ],
      "metadata": {
        "colab": {
          "base_uri": "https://localhost:8080/"
        },
        "id": "QrSNJl63h6Fq",
        "outputId": "7624e72d-0209-49a4-d93a-d308baf5deeb"
      },
      "execution_count": null,
      "outputs": [
        {
          "output_type": "stream",
          "name": "stdout",
          "text": [
            "Decision Tree Accuracy: 55.00%\n",
            "Bagging Accuracy: 42.50%\n",
            "Boosting Accuracy: 65.00%\n",
            "Random Forest Accuracy: 50.00%\n",
            "\n",
            "Classification Report for Decision Tree:\n",
            "              precision    recall  f1-score   support\n",
            "\n",
            "           0       0.62      0.38      0.47        21\n",
            "           1       0.52      0.74      0.61        19\n",
            "\n",
            "    accuracy                           0.55        40\n",
            "   macro avg       0.57      0.56      0.54        40\n",
            "weighted avg       0.57      0.55      0.54        40\n",
            "\n",
            "Classification Report for Bagging:\n",
            "              precision    recall  f1-score   support\n",
            "\n",
            "           0       0.45      0.43      0.44        21\n",
            "           1       0.40      0.42      0.41        19\n",
            "\n",
            "    accuracy                           0.42        40\n",
            "   macro avg       0.43      0.42      0.42        40\n",
            "weighted avg       0.43      0.42      0.43        40\n",
            "\n",
            "Classification Report for Boosting:\n",
            "              precision    recall  f1-score   support\n",
            "\n",
            "           0       0.68      0.62      0.65        21\n",
            "           1       0.62      0.68      0.65        19\n",
            "\n",
            "    accuracy                           0.65        40\n",
            "   macro avg       0.65      0.65      0.65        40\n",
            "weighted avg       0.65      0.65      0.65        40\n",
            "\n",
            "Classification Report for Random Forest:\n",
            "              precision    recall  f1-score   support\n",
            "\n",
            "           0       0.52      0.52      0.52        21\n",
            "           1       0.47      0.47      0.47        19\n",
            "\n",
            "    accuracy                           0.50        40\n",
            "   macro avg       0.50      0.50      0.50        40\n",
            "weighted avg       0.50      0.50      0.50        40\n",
            "\n"
          ]
        }
      ]
    },
    {
      "cell_type": "markdown",
      "source": [
        "14. Model Interpretation"
      ],
      "metadata": {
        "id": "HnoirIfyV_vm"
      }
    },
    {
      "cell_type": "code",
      "source": [
        "importance = pd.DataFrame({'Feature': X.columns, 'Importance':rf.feature_importances_}).sort_values(by='Importance',ascending=False)\n",
        "print(importance)"
      ],
      "metadata": {
        "colab": {
          "base_uri": "https://localhost:8080/"
        },
        "id": "etDEnOJxWCGG",
        "outputId": "b3dedda6-6898-4865-90d6-93f15acffa22"
      },
      "execution_count": null,
      "outputs": [
        {
          "output_type": "stream",
          "name": "stdout",
          "text": [
            "          Feature  Importance\n",
            "1   MonthlyCharge    0.332752\n",
            "2          Tenure    0.307734\n",
            "0             Age    0.274413\n",
            "3      HasSupport    0.044701\n",
            "4  IsActiveMember    0.040400\n"
          ]
        }
      ]
    },
    {
      "cell_type": "markdown",
      "source": [
        "15. Discuss the importance of different features in predicting disease outbreak based on the model results."
      ],
      "metadata": {
        "id": "Xd7lK87YWClm"
      }
    },
    {
      "cell_type": "code",
      "source": [
        "# Visualize feature importances\n",
        "plt.figure(figsize=(8, 3))\n",
        "plt.barh(importance.index, importance['Importance'], color='skyblue')\n",
        "plt.xlabel('Importance')\n",
        "plt.title('Feature Importances in Predicting Disease Outbreak')\n",
        "plt.show()\n",
        "\n",
        "# Print feature importances\n",
        "print(\"\\nFeature Importances:\")\n",
        "print(importance)"
      ],
      "metadata": {
        "colab": {
          "base_uri": "https://localhost:8080/",
          "height": 472
        },
        "id": "0hF4fTuojxai",
        "outputId": "2a699b22-ac2b-47f3-f72f-d14335df703e"
      },
      "execution_count": null,
      "outputs": [
        {
          "output_type": "display_data",
          "data": {
            "text/plain": [
              "<Figure size 800x300 with 1 Axes>"
            ],
            "image/png": "[encoded data removed]"
          },
          "metadata": {}
        },
        {
          "output_type": "stream",
          "name": "stdout",
          "text": [
            "\n",
            "Feature Importances:\n",
            "          Feature  Importance\n",
            "1   MonthlyCharge    0.332752\n",
            "2          Tenure    0.307734\n",
            "0             Age    0.274413\n",
            "3      HasSupport    0.044701\n",
            "4  IsActiveMember    0.040400\n"
          ]
        }
      ]
    },
    {
      "cell_type": "markdown",
      "source": [
        "16. Analyze the decision tree to understand the decision-making process."
      ],
      "metadata": {
        "id": "dSTUPx80WI8f"
      }
    },
    {
      "cell_type": "code",
      "source": [
        "from sklearn.tree import plot_tree\n",
        "import matplotlib.pyplot as plt\n",
        "\n",
        "# Assuming 'dt' is your trained DecisionTreeClassifier\n",
        "plt.figure(figsize=(8,6))  # Adjust figure size as needed\n",
        "plot_tree(dt,\n",
        "          feature_names=X.columns,  # Replace X with your feature data\n",
        "          class_names=['Not Affected', 'Affected'],  # Adjust class names\n",
        "          filled=True,\n",
        "          rounded=True)\n",
        "plt.show()"
      ],
      "metadata": {
        "id": "JW_hXmXOWMHy",
        "colab": {
          "base_uri": "https://localhost:8080/",
          "height": 499
        },
        "outputId": "52468682-4af7-430e-d6f9-a5d0d2c0e361"
      },
      "execution_count": null,
      "outputs": [
        {
          "output_type": "display_data",
          "data": {
            "text/plain": [
              "<Figure size 800x600 with 1 Axes>"
            ],
            "image/png": "[encoded data removed]"
          },
          "metadata": {}
        }
      ]
    },
    {
      "cell_type": "markdown",
      "source": [
        "***Real-Life Impact***\n",
        "\n",
        "**Transparency:** By visualizing the decision tree, the doctor can gain insights into how the model arrives at its predictions, making the decision-making process more transparent and understandable.\n",
        "\n",
        "**Trust:** Understanding the model's logic helps the doctor build trust in its predictions, leading to more informed and confident decisions about patient care.\n",
        "\n",
        "**Explainability:** The doctor can use the visualization to explain the model's reasoning to patients, promoting shared decision-making and patient engagement in their healthcare.\n",
        "\n",
        "**Error Analysis:** If the model makes incorrect predictions, the doctor can examine the decision tree to identify potential areas for improvement, leading to a more accurate and reliable system.\n",
        "\n",
        "**Potential Discoveries:** The visualized tree might reveal previously unknown patterns or relationships among symptoms and the disease, leading to new medical insights and advancements."
      ],
      "metadata": {
        "id": "H1q40HtAAmS-"
      }
    },
    {
      "cell_type": "code",
      "source": [],
      "metadata": {
        "id": "1xJTR8NCWWaf"
      },
      "execution_count": null,
      "outputs": []
    }
  ]
}